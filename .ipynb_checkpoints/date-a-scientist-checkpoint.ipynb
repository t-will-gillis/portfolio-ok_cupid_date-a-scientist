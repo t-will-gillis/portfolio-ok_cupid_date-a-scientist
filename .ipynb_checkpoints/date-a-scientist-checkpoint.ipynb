{
 "cells": [
  {
   "cell_type": "markdown",
   "metadata": {},
   "source": [
    "## Introduction\n",
    "\n",
    "The data for this project comes from the OkCupid app. This is an online dating service, where users enter basic information about themselves and answer several multiple choice questions so that they can be matched to other users.\n",
    "\n",
    "The goal of this project is to first review and clean the data, determine what data is available, and create a machine learning model to attempt matching users.\n",
    "\n",
    "The data is provided from OkCupid and Codecademy as `profiles.csv`."
   ]
  },
  {
   "cell_type": "markdown",
   "metadata": {},
   "source": [
    "## Project Scoping\n",
    "\n",
    "\n",
    "\n",
    "### Project Goals\n",
    "\n",
    "### Data\n",
    "\n",
    "### Analysis\n",
    "\n",
    "### Evaluation\n",
    "\n",
    "\n",
    "\n",
    "\n",
    "\n",
    "\n",
    "\n"
   ]
  },
  {
   "cell_type": "markdown",
   "metadata": {},
   "source": [
    "## Import Python Modules \n",
    "\n",
    "Includes initial modules expected to be utilized."
   ]
  },
  {
   "cell_type": "code",
   "execution_count": 361,
   "metadata": {},
   "outputs": [],
   "source": [
    "import pandas as pd\n",
    "from matplotlib import pyplot as plt\n",
    "import seaborn as sns\n",
    "import numpy as np\n",
    "\n"
   ]
  },
  {
   "cell_type": "markdown",
   "metadata": {},
   "source": [
    "## Load Data and Review "
   ]
  },
  {
   "cell_type": "code",
   "execution_count": 362,
   "metadata": {
    "scrolled": true
   },
   "outputs": [
    {
     "data": {
      "text/html": [
       "<div>\n",
       "<style scoped>\n",
       "    .dataframe tbody tr th:only-of-type {\n",
       "        vertical-align: middle;\n",
       "    }\n",
       "\n",
       "    .dataframe tbody tr th {\n",
       "        vertical-align: top;\n",
       "    }\n",
       "\n",
       "    .dataframe thead th {\n",
       "        text-align: right;\n",
       "    }\n",
       "</style>\n",
       "<table border=\"1\" class=\"dataframe\">\n",
       "  <thead>\n",
       "    <tr style=\"text-align: right;\">\n",
       "      <th></th>\n",
       "      <th>age</th>\n",
       "      <th>body_type</th>\n",
       "      <th>diet</th>\n",
       "      <th>drinks</th>\n",
       "      <th>drugs</th>\n",
       "      <th>education</th>\n",
       "      <th>essay0</th>\n",
       "      <th>essay1</th>\n",
       "      <th>essay2</th>\n",
       "      <th>essay3</th>\n",
       "      <th>...</th>\n",
       "      <th>location</th>\n",
       "      <th>offspring</th>\n",
       "      <th>orientation</th>\n",
       "      <th>pets</th>\n",
       "      <th>religion</th>\n",
       "      <th>sex</th>\n",
       "      <th>sign</th>\n",
       "      <th>smokes</th>\n",
       "      <th>speaks</th>\n",
       "      <th>status</th>\n",
       "    </tr>\n",
       "  </thead>\n",
       "  <tbody>\n",
       "    <tr>\n",
       "      <th>0</th>\n",
       "      <td>22</td>\n",
       "      <td>a little extra</td>\n",
       "      <td>strictly anything</td>\n",
       "      <td>socially</td>\n",
       "      <td>never</td>\n",
       "      <td>working on college/university</td>\n",
       "      <td>about me:&lt;br /&gt;\\n&lt;br /&gt;\\ni would love to think...</td>\n",
       "      <td>currently working as an international agent fo...</td>\n",
       "      <td>making people laugh.&lt;br /&gt;\\nranting about a go...</td>\n",
       "      <td>the way i look. i am a six foot half asian, ha...</td>\n",
       "      <td>...</td>\n",
       "      <td>south san francisco, california</td>\n",
       "      <td>doesn&amp;rsquo;t have kids, but might want them</td>\n",
       "      <td>straight</td>\n",
       "      <td>likes dogs and likes cats</td>\n",
       "      <td>agnosticism and very serious about it</td>\n",
       "      <td>m</td>\n",
       "      <td>gemini</td>\n",
       "      <td>sometimes</td>\n",
       "      <td>english</td>\n",
       "      <td>single</td>\n",
       "    </tr>\n",
       "    <tr>\n",
       "      <th>1</th>\n",
       "      <td>35</td>\n",
       "      <td>average</td>\n",
       "      <td>mostly other</td>\n",
       "      <td>often</td>\n",
       "      <td>sometimes</td>\n",
       "      <td>working on space camp</td>\n",
       "      <td>i am a chef: this is what that means.&lt;br /&gt;\\n1...</td>\n",
       "      <td>dedicating everyday to being an unbelievable b...</td>\n",
       "      <td>being silly. having ridiculous amonts of fun w...</td>\n",
       "      <td>NaN</td>\n",
       "      <td>...</td>\n",
       "      <td>oakland, california</td>\n",
       "      <td>doesn&amp;rsquo;t have kids, but might want them</td>\n",
       "      <td>straight</td>\n",
       "      <td>likes dogs and likes cats</td>\n",
       "      <td>agnosticism but not too serious about it</td>\n",
       "      <td>m</td>\n",
       "      <td>cancer</td>\n",
       "      <td>no</td>\n",
       "      <td>english (fluently), spanish (poorly), french (...</td>\n",
       "      <td>single</td>\n",
       "    </tr>\n",
       "    <tr>\n",
       "      <th>2</th>\n",
       "      <td>38</td>\n",
       "      <td>thin</td>\n",
       "      <td>anything</td>\n",
       "      <td>socially</td>\n",
       "      <td>NaN</td>\n",
       "      <td>graduated from masters program</td>\n",
       "      <td>i'm not ashamed of much, but writing public te...</td>\n",
       "      <td>i make nerdy software for musicians, artists, ...</td>\n",
       "      <td>improvising in different contexts. alternating...</td>\n",
       "      <td>my large jaw and large glasses are the physica...</td>\n",
       "      <td>...</td>\n",
       "      <td>san francisco, california</td>\n",
       "      <td>NaN</td>\n",
       "      <td>straight</td>\n",
       "      <td>has cats</td>\n",
       "      <td>NaN</td>\n",
       "      <td>m</td>\n",
       "      <td>pisces but it doesn&amp;rsquo;t matter</td>\n",
       "      <td>no</td>\n",
       "      <td>english, french, c++</td>\n",
       "      <td>available</td>\n",
       "    </tr>\n",
       "    <tr>\n",
       "      <th>3</th>\n",
       "      <td>23</td>\n",
       "      <td>thin</td>\n",
       "      <td>vegetarian</td>\n",
       "      <td>socially</td>\n",
       "      <td>NaN</td>\n",
       "      <td>working on college/university</td>\n",
       "      <td>i work in a library and go to school. . .</td>\n",
       "      <td>reading things written by old dead people</td>\n",
       "      <td>playing synthesizers and organizing books acco...</td>\n",
       "      <td>socially awkward but i do my best</td>\n",
       "      <td>...</td>\n",
       "      <td>berkeley, california</td>\n",
       "      <td>doesn&amp;rsquo;t want kids</td>\n",
       "      <td>straight</td>\n",
       "      <td>likes cats</td>\n",
       "      <td>NaN</td>\n",
       "      <td>m</td>\n",
       "      <td>pisces</td>\n",
       "      <td>no</td>\n",
       "      <td>english, german (poorly)</td>\n",
       "      <td>single</td>\n",
       "    </tr>\n",
       "    <tr>\n",
       "      <th>4</th>\n",
       "      <td>29</td>\n",
       "      <td>athletic</td>\n",
       "      <td>NaN</td>\n",
       "      <td>socially</td>\n",
       "      <td>never</td>\n",
       "      <td>graduated from college/university</td>\n",
       "      <td>hey how's it going? currently vague on the pro...</td>\n",
       "      <td>work work work work + play</td>\n",
       "      <td>creating imagery to look at:&lt;br /&gt;\\nhttp://bag...</td>\n",
       "      <td>i smile a lot and my inquisitive nature</td>\n",
       "      <td>...</td>\n",
       "      <td>san francisco, california</td>\n",
       "      <td>NaN</td>\n",
       "      <td>straight</td>\n",
       "      <td>likes dogs and likes cats</td>\n",
       "      <td>NaN</td>\n",
       "      <td>m</td>\n",
       "      <td>aquarius</td>\n",
       "      <td>no</td>\n",
       "      <td>english</td>\n",
       "      <td>single</td>\n",
       "    </tr>\n",
       "  </tbody>\n",
       "</table>\n",
       "<p>5 rows × 31 columns</p>\n",
       "</div>"
      ],
      "text/plain": [
       "   age       body_type               diet    drinks      drugs  \\\n",
       "0   22  a little extra  strictly anything  socially      never   \n",
       "1   35         average       mostly other     often  sometimes   \n",
       "2   38            thin           anything  socially        NaN   \n",
       "3   23            thin         vegetarian  socially        NaN   \n",
       "4   29        athletic                NaN  socially      never   \n",
       "\n",
       "                           education  \\\n",
       "0      working on college/university   \n",
       "1              working on space camp   \n",
       "2     graduated from masters program   \n",
       "3      working on college/university   \n",
       "4  graduated from college/university   \n",
       "\n",
       "                                              essay0  \\\n",
       "0  about me:<br />\\n<br />\\ni would love to think...   \n",
       "1  i am a chef: this is what that means.<br />\\n1...   \n",
       "2  i'm not ashamed of much, but writing public te...   \n",
       "3          i work in a library and go to school. . .   \n",
       "4  hey how's it going? currently vague on the pro...   \n",
       "\n",
       "                                              essay1  \\\n",
       "0  currently working as an international agent fo...   \n",
       "1  dedicating everyday to being an unbelievable b...   \n",
       "2  i make nerdy software for musicians, artists, ...   \n",
       "3          reading things written by old dead people   \n",
       "4                         work work work work + play   \n",
       "\n",
       "                                              essay2  \\\n",
       "0  making people laugh.<br />\\nranting about a go...   \n",
       "1  being silly. having ridiculous amonts of fun w...   \n",
       "2  improvising in different contexts. alternating...   \n",
       "3  playing synthesizers and organizing books acco...   \n",
       "4  creating imagery to look at:<br />\\nhttp://bag...   \n",
       "\n",
       "                                              essay3  ...  \\\n",
       "0  the way i look. i am a six foot half asian, ha...  ...   \n",
       "1                                                NaN  ...   \n",
       "2  my large jaw and large glasses are the physica...  ...   \n",
       "3                  socially awkward but i do my best  ...   \n",
       "4            i smile a lot and my inquisitive nature  ...   \n",
       "\n",
       "                          location  \\\n",
       "0  south san francisco, california   \n",
       "1              oakland, california   \n",
       "2        san francisco, california   \n",
       "3             berkeley, california   \n",
       "4        san francisco, california   \n",
       "\n",
       "                                      offspring orientation  \\\n",
       "0  doesn&rsquo;t have kids, but might want them    straight   \n",
       "1  doesn&rsquo;t have kids, but might want them    straight   \n",
       "2                                           NaN    straight   \n",
       "3                       doesn&rsquo;t want kids    straight   \n",
       "4                                           NaN    straight   \n",
       "\n",
       "                        pets                                  religion sex  \\\n",
       "0  likes dogs and likes cats     agnosticism and very serious about it   m   \n",
       "1  likes dogs and likes cats  agnosticism but not too serious about it   m   \n",
       "2                   has cats                                       NaN   m   \n",
       "3                 likes cats                                       NaN   m   \n",
       "4  likes dogs and likes cats                                       NaN   m   \n",
       "\n",
       "                                 sign     smokes  \\\n",
       "0                              gemini  sometimes   \n",
       "1                              cancer         no   \n",
       "2  pisces but it doesn&rsquo;t matter         no   \n",
       "3                              pisces         no   \n",
       "4                            aquarius         no   \n",
       "\n",
       "                                              speaks     status  \n",
       "0                                            english     single  \n",
       "1  english (fluently), spanish (poorly), french (...     single  \n",
       "2                               english, french, c++  available  \n",
       "3                           english, german (poorly)     single  \n",
       "4                                            english     single  \n",
       "\n",
       "[5 rows x 31 columns]"
      ]
     },
     "execution_count": 362,
     "metadata": {},
     "output_type": "execute_result"
    }
   ],
   "source": [
    "profiles = pd.read_csv('profiles.csv', encoding='utf-8')\n",
    "profiles.head()"
   ]
  },
  {
   "cell_type": "code",
   "execution_count": 363,
   "metadata": {},
   "outputs": [
    {
     "data": {
      "text/plain": [
       "(59946, 31)"
      ]
     },
     "execution_count": 363,
     "metadata": {},
     "output_type": "execute_result"
    }
   ],
   "source": [
    "profiles.shape"
   ]
  },
  {
   "cell_type": "code",
   "execution_count": 364,
   "metadata": {},
   "outputs": [
    {
     "data": {
      "text/plain": [
       "['age',\n",
       " 'body_type',\n",
       " 'diet',\n",
       " 'drinks',\n",
       " 'drugs',\n",
       " 'education',\n",
       " 'essay0',\n",
       " 'essay1',\n",
       " 'essay2',\n",
       " 'essay3',\n",
       " 'essay4',\n",
       " 'essay5',\n",
       " 'essay6',\n",
       " 'essay7',\n",
       " 'essay8',\n",
       " 'essay9',\n",
       " 'ethnicity',\n",
       " 'height',\n",
       " 'income',\n",
       " 'job',\n",
       " 'last_online',\n",
       " 'location',\n",
       " 'offspring',\n",
       " 'orientation',\n",
       " 'pets',\n",
       " 'religion',\n",
       " 'sex',\n",
       " 'sign',\n",
       " 'smokes',\n",
       " 'speaks',\n",
       " 'status']"
      ]
     },
     "execution_count": 364,
     "metadata": {},
     "output_type": "execute_result"
    }
   ],
   "source": [
    "list(profiles.columns)"
   ]
  },
  {
   "cell_type": "code",
   "execution_count": 365,
   "metadata": {},
   "outputs": [
    {
     "data": {
      "text/plain": [
       "dtype('int64')"
      ]
     },
     "execution_count": 365,
     "metadata": {},
     "output_type": "execute_result"
    }
   ],
   "source": [
    "profiles.age.dtypes"
   ]
  },
  {
   "cell_type": "markdown",
   "metadata": {},
   "source": [
    "### Data Summary\n",
    "\n",
    "From `profiles.shape` there are almost 60k rows with 31 columns \n",
    "\n",
    "The dataset column titles `profiles.columns` are:\n",
    "\n",
    "- **age:** continuous variable in years (int64)\n",
    "- **body_type:** categorical variable \n",
    "- **diet:** categorical variable\n",
    "- **drinks:** categorical variable (alcohol consumption)\n",
    "- **drugs:** categorical variable (drug usage)\n",
    "- **education:** categorical variable\n",
    "\n",
    "- **essay0:** \"My self summary\"\n",
    "- **essay1:** \"What I'm doing with my life\"\n",
    "- **essay2:** \"What I'm really good at\"\n",
    "- **essay3:** \"The first thing people notice about me\"\n",
    "- **essay4:** \"Favorite books, movies, shows, music, and food\"\n",
    "- **essay5:** \"The six things I could never do without\"\n",
    "- **essay6:** \"I spend a lot of time thinking about...\"\n",
    "- **essay7:** \"On a typical Friday night I am...\"\n",
    "- **essay8:** \"The most private thing I am willing to admit\"\n",
    "- **essay9:** \"You should message me if...\"\n",
    "\n",
    "- **ethnicity:** categorical variable\n",
    "- **height:** continuous variable in inches (float64)\n",
    "- **income:** continuous variable in USD assumed (int64)\n",
    "- **job:** categorical variable (by inspection, from dropdown menu) \n",
    "- **last_online:** categorical variable\n",
    "- **location:** categorical variable\n",
    "- **offspring:** categorical variable\n",
    "- **orientation:** categorical variable\n",
    "- **pets:** categorical variable\n",
    "- **religion:** categorical variable\n",
    "- **sex:** categorical variable\n",
    "- **sign:** categorical variable\n",
    "- **smokes:** categorical variable\n",
    "- **speaks:** categorical variable\n",
    "- **status:** categorical variable\n"
   ]
  },
  {
   "cell_type": "markdown",
   "metadata": {},
   "source": [
    "## Explore the data\n",
    "\n",
    "For all columns with continuous variables, explore the number of unique responses and in some cases list those. Alphabetize the list when sorting (remove NaN first...)"
   ]
  },
  {
   "cell_type": "code",
   "execution_count": 366,
   "metadata": {},
   "outputs": [
    {
     "name": "stdout",
     "output_type": "stream",
     "text": [
      "Column BODY_TYPE has 12 categories\n",
      "Column DIET has 18 categories\n",
      "Column DRINKS has 6 categories\n",
      "Column DRUGS has 3 categories\n",
      "Column EDUCATION has 32 categories\n",
      "Column ESSAY0 has 54350 categories\n",
      "Column ESSAY1 has 51516 categories\n",
      "Column ESSAY2 has 48635 categories\n",
      "Column ESSAY3 has 43533 categories\n",
      "Column ESSAY4 has 49260 categories\n",
      "Column ESSAY5 has 48963 categories\n",
      "Column ESSAY6 has 43603 categories\n",
      "Column ESSAY7 has 45554 categories\n",
      "Column ESSAY8 has 39324 categories\n",
      "Column ESSAY9 has 45443 categories\n",
      "Column ETHNICITY has 217 categories\n",
      "Column JOB has 21 categories\n",
      "Column LAST_ONLINE has 30123 categories\n",
      "Column LOCATION has 199 categories\n",
      "Column OFFSPRING has 15 categories\n",
      "Column ORIENTATION has 3 categories\n",
      "Column PETS has 15 categories\n",
      "Column RELIGION has 45 categories\n",
      "Column SEX has 2 categories\n",
      "Column SIGN has 48 categories\n",
      "Column SMOKES has 5 categories\n",
      "Column SPEAKS has 7647 categories\n",
      "Column STATUS has 5 categories\n"
     ]
    }
   ],
   "source": [
    "object_cols = []\n",
    "for column in profiles.columns:\n",
    "    if profiles[column].dtypes == 'object':\n",
    "        object_cols.append(column)\n",
    "        print(f'Column {column.upper()} has {profiles[column].nunique()} categories')   \n",
    "        "
   ]
  },
  {
   "cell_type": "code",
   "execution_count": 367,
   "metadata": {},
   "outputs": [],
   "source": [
    "def unique_entries(column):\n",
    "    len_pre_nan = profiles[column].isnull().sum()\n",
    "    clean_column = profiles[column].dropna()\n",
    "    len_post = len(clean_column)\n",
    "    col_entries = list(clean_column.unique())\n",
    "    print(f'For column {column.upper()}, {len_post} entries remain after {len_pre_nan} NaNs deleted.')\n",
    "    print(sorted(col_entries))\n",
    "\n",
    "    \n",
    "def unique_list(column):\n",
    "    clean_column = profiles[column].dropna()\n",
    "    col_entries = list(clean_column.unique())\n",
    "    return col_entries\n"
   ]
  },
  {
   "cell_type": "code",
   "execution_count": 368,
   "metadata": {},
   "outputs": [],
   "source": [
    "# unique_entries('body_type')"
   ]
  },
  {
   "cell_type": "code",
   "execution_count": 369,
   "metadata": {},
   "outputs": [],
   "source": [
    "# unique_entries('diet')"
   ]
  },
  {
   "cell_type": "code",
   "execution_count": 370,
   "metadata": {},
   "outputs": [],
   "source": [
    "# unique_entries('drinks')"
   ]
  },
  {
   "cell_type": "code",
   "execution_count": 371,
   "metadata": {},
   "outputs": [],
   "source": [
    "# unique_entries('drugs')"
   ]
  },
  {
   "cell_type": "code",
   "execution_count": 490,
   "metadata": {},
   "outputs": [],
   "source": [
    "# unique_entries('ethnicity')"
   ]
  },
  {
   "cell_type": "code",
   "execution_count": 373,
   "metadata": {},
   "outputs": [],
   "source": [
    "# unique_entries('job')"
   ]
  },
  {
   "cell_type": "code",
   "execution_count": 374,
   "metadata": {},
   "outputs": [],
   "source": [
    "# unique_entries('location')"
   ]
  },
  {
   "cell_type": "code",
   "execution_count": 375,
   "metadata": {},
   "outputs": [],
   "source": [
    "# unique_entries('offspring')"
   ]
  },
  {
   "cell_type": "code",
   "execution_count": 376,
   "metadata": {},
   "outputs": [],
   "source": [
    "# unique_entries('sex')"
   ]
  },
  {
   "cell_type": "code",
   "execution_count": 484,
   "metadata": {},
   "outputs": [],
   "source": [
    "# unique_entries('religion')"
   ]
  },
  {
   "cell_type": "code",
   "execution_count": 378,
   "metadata": {},
   "outputs": [],
   "source": [
    "# unique_entries('sign')"
   ]
  },
  {
   "cell_type": "code",
   "execution_count": 379,
   "metadata": {},
   "outputs": [],
   "source": [
    "# unique_entries('speaks')"
   ]
  },
  {
   "cell_type": "markdown",
   "metadata": {},
   "source": [
    "## Observations of Data\n",
    "\n",
    "- Many columns such as `ethnicity`, `location`, `religion`, `sign` and `speaks` include large amounts of data that can be regrouped for clarity. Using a Bag of Words counter, it may be seen that in each of these cases terms are being repeated.\n",
    "- The column for `location` may be split into city and state/country. A casual look at the data seems to indicate that there is a huge proportion of users from California. \n"
   ]
  },
  {
   "cell_type": "markdown",
   "metadata": {},
   "source": [
    "## Variables"
   ]
  },
  {
   "cell_type": "markdown",
   "metadata": {},
   "source": [
    "### Ethnicity"
   ]
  },
  {
   "cell_type": "code",
   "execution_count": 380,
   "metadata": {},
   "outputs": [
    {
     "name": "stdout",
     "output_type": "stream",
     "text": [
      "Counter({'asian,': 99, 'hispanic': 99, '/': 99, 'native': 94, 'black,': 93, 'other': 92, 'american,': 89, 'pacific': 81, 'latin,': 71, 'islander,': 68, 'middle': 64, 'white': 62, 'eastern,': 62, 'indian,': 55, 'white,': 52, 'latin': 28, 'islander': 13, 'indian': 10, 'american': 5, 'black': 4, 'eastern': 2, 'asian': 1})\n"
     ]
    }
   ],
   "source": [
    "\n",
    "from collections import Counter\n",
    "\n",
    "tokens = (' '.join(unique_list('ethnicity'))).split()\n",
    "print(Counter(tokens))\n"
   ]
  },
  {
   "cell_type": "code",
   "execution_count": null,
   "metadata": {},
   "outputs": [],
   "source": []
  },
  {
   "cell_type": "code",
   "execution_count": null,
   "metadata": {},
   "outputs": [],
   "source": []
  },
  {
   "cell_type": "markdown",
   "metadata": {},
   "source": [
    "## Variables"
   ]
  },
  {
   "cell_type": "code",
   "execution_count": null,
   "metadata": {},
   "outputs": [],
   "source": []
  },
  {
   "cell_type": "code",
   "execution_count": null,
   "metadata": {},
   "outputs": [],
   "source": []
  },
  {
   "cell_type": "code",
   "execution_count": null,
   "metadata": {},
   "outputs": [],
   "source": []
  },
  {
   "cell_type": "code",
   "execution_count": null,
   "metadata": {},
   "outputs": [],
   "source": []
  },
  {
   "cell_type": "code",
   "execution_count": null,
   "metadata": {},
   "outputs": [],
   "source": []
  },
  {
   "cell_type": "code",
   "execution_count": null,
   "metadata": {},
   "outputs": [],
   "source": []
  },
  {
   "cell_type": "code",
   "execution_count": null,
   "metadata": {},
   "outputs": [],
   "source": []
  },
  {
   "cell_type": "markdown",
   "metadata": {},
   "source": [
    "## Chi-Square Test\n",
    "\n",
    "Analysis of significant association between variables.\n",
    " \n",
    "- **Goal** Analysis of whether there is a relationship between how religious one describes oneself and self-described drug use and drinking.\n",
    "- **Data** The data tables include the `religion`, `drugs`, `drinks`, and `smokes` columns.  \n",
    "- **Process** The `religion` column will be divided into more strongly affiliated and less strongly affiliated with a belief.  The `drugs`, `drinks`, and `smokes` columns will be ordered and cleaned.\n",
    "   - For religion: the new column will be `beliefs`. The entries '...and very serious about it', '...and somewhat serious about it', and the belief itself are to be categorized as 'strong belief'. Otherwise, the entries '...and not too serious about it', '...and laughing about it' are to be categorized as 'low belief'. "
   ]
  },
  {
   "cell_type": "code",
   "execution_count": 496,
   "metadata": {},
   "outputs": [
    {
     "name": "stdout",
     "output_type": "stream",
     "text": [
      "(30094, 31)\n",
      "belief     high belief  low belief\n",
      "drugs                             \n",
      "never            19802        4371\n",
      "sometimes         4595        1033\n",
      "often              208          85\n",
      "8.965022305044359e-06\n"
     ]
    }
   ],
   "source": [
    "# Drop null values from the following columns\n",
    "profiles_rel = profiles.dropna(subset=['religion', 'drinks', 'drugs', 'smokes']).copy()\n",
    "print(profiles_rel.shape)\n",
    "\n",
    "# This function and the lambda immediately below create column 'belief' \n",
    "def check_for_text(str):\n",
    "#     if (str.__contains__('not too') | str.__contains__('laughing')):\n",
    "    if (str.__contains__('somewhat') | str.__contains__('very')):\n",
    "        return True\n",
    "\n",
    "profiles_rel['belief'] = profiles_rel.apply(lambda row: 'low belief' if check_for_text(row['religion']) else 'high belief', axis = 1)\n",
    "\n",
    "# Sort the sortable categoricals: For 'religion', alphabetize then sort based on seriousness of belief. For the others, sort for\n",
    "# how often the user drinks, uses drugs, or smokes.\n",
    "profiles_rel['religion'] = pd.Categorical(profiles_rel['religion'],\\\n",
    "                        ['agnosticism and laughing about it',  'agnosticism but not too serious about it', \\\n",
    "                         'agnosticism', 'agnosticism and somewhat serious about it', 'agnosticism and very serious about it', \\\n",
    "                         'atheism and laughing about it', 'atheism but not too serious about it', \\\n",
    "                         'atheism', 'atheism and somewhat serious about it', 'atheism and very serious about it',  \\\n",
    "                         'buddhism and laughing about it', 'buddhism but not too serious about it', \\\n",
    "                         'buddhism', 'buddhism and somewhat serious about it', 'buddhism and very serious about it', \\\n",
    "                         'catholicism and laughing about it', 'catholicism but not too serious about it', \\\n",
    "                         'catholicism', 'catholicism and somewhat serious about it', 'catholicism and very serious about it', \\\n",
    "                         'christianity and laughing about it', 'christianity but not too serious about it',\\\n",
    "                         'christianity', 'christianity and somewhat serious about it', 'christianity and very serious about it',\\\n",
    "                         'hinduism and laughing about it', 'hinduism but not too serious about it', \\\n",
    "                         'hinduism', 'hinduism and somewhat serious about it', 'hinduism and very serious about it', \\\n",
    "                         'islam and laughing about it', 'islam but not too serious about it', \\\n",
    "                         'islam', 'islam and somewhat serious about it', 'islam and very serious about it', \\\n",
    "                         'judaism and laughing about it', 'judaism but not too serious about it', \\\n",
    "                         'judaism', 'judaism and somewhat serious about it', 'judaism and very serious about it', \\\n",
    "                         'other and laughing about it', 'other but not too serious about it', \\\n",
    "                         'other', 'other and somewhat serious about it', 'other and very serious about it'], ordered=True)\n",
    "profiles_rel['drugs'] = pd.Categorical(profiles_rel['drugs'], ['never', 'sometimes', 'often'], ordered=True)\n",
    "profiles_rel['drinks'] = pd.Categorical(profiles_rel['drinks'], ['not at all', 'rarely', 'socially', 'often', 'very often', 'desperately'], ordered=True)\n",
    "profiles_rel['smokes'] = pd.Categorical(profiles_rel['smokes'], ['no', 'sometimes', 'when drinking', 'trying to quit', 'yes'], ordered=True)\n",
    "\n",
    "from scipy.stats import chi2_contingency\n",
    "\n",
    "ab_contingency = pd.crosstab(profiles_rel['drugs'], profiles_rel['belief'])\n",
    "print(ab_contingency)\n",
    "chi2, pval, dof, expected = chi2_contingency(ab_contingency)\n",
    "print(pval)\n"
   ]
  },
  {
   "cell_type": "markdown",
   "metadata": {},
   "source": [
    "### Chi-Square Results\n",
    "\n",
    "- **Conclusions** Comparing `belief` to `drugs`, `drinks`, and `smokes` pval suggests a correlation. As a test, comparing `religion` to `belief` shows pval = 0, or as expected no correlation. "
   ]
  },
  {
   "cell_type": "markdown",
   "metadata": {},
   "source": [
    "# Plots\n",
    "\n",
    "### Religion\n",
    "\n",
    "From the chi-square test above 53% of respondents describe their belief of choice as not very serious, while around 29% simply state a belief, and the remaining 18% are more serious about their belief. Per the plot below, for most of the individual beliefs '{belief} but not too serious about it' is the main choice of users. Agnosticism and Atheism are 37.5% of the population, Christianity and Catholicism are 29.6%, Judaism, Buddhism, Hinduism, and Islam are about 14.6%, and Other the remaining 19.2%."
   ]
  },
  {
   "cell_type": "code",
   "execution_count": 596,
   "metadata": {
    "scrolled": true
   },
   "outputs": [
    {
     "data": {
      "image/png": "[encoded data removed]",
      "text/plain": [
       "<Figure size 432x504 with 1 Axes>"
      ]
     },
     "metadata": {},
     "output_type": "display_data"
    }
   ],
   "source": [
    "plt.figure(figsize=(6,7))\n",
    "sns.set_style('darkgrid')\n",
    "sns.countplot(data=profiles_rel, y='religion')\n",
    "plt.title('Religion Responses Count')\n",
    "plt.savefig('religions.png')"
   ]
  },
  {
   "cell_type": "code",
   "execution_count": 581,
   "metadata": {},
   "outputs": [
    {
     "name": "stdout",
     "output_type": "stream",
     "text": [
      "         belief  count    percent\n",
      "0   agnosticism   6307  20.957666\n",
      "1       atheism   4968  16.508274\n",
      "2      buddhism   1464   4.864757\n",
      "3   catholicism   3920  13.025852\n",
      "4  christianity   4996  16.601316\n",
      "5      hinduism    375   1.246096\n",
      "6         islam    110   0.365521\n",
      "7       judaism   2156   7.164219\n",
      "8         other   5798  19.266299\n"
     ]
    }
   ],
   "source": [
    "# Count totals for each belief\n",
    "profiles_rel['belief_overall'] = profiles_rel.religion.str.split().str.get(0)\n",
    "beliefs_overall = profiles_rel['belief_overall'].value_counts().sort_index().to_frame().reset_index()\n",
    "beliefs_overall.columns = ['belief', 'count']\n",
    "beliefs_overall['percent'] = beliefs_overall['count'].apply(lambda x: x/ len(profiles_rel['belief_overall'])*100)\n",
    "\n",
    "print((beliefs_overall))\n"
   ]
  },
  {
   "cell_type": "code",
   "execution_count": 602,
   "metadata": {},
   "outputs": [
    {
     "data": {
      "image/png": "[encoded data removed]",
      "text/plain": [
       "<Figure size 432x288 with 1 Axes>"
      ]
     },
     "metadata": {},
     "output_type": "display_data"
    }
   ],
   "source": [
    "sns.barplot(x=beliefs_overall['percent'], y=beliefs_overall['belief'])\n",
    "plt.title('Beliefs by Percentage')\n",
    "plt.savefig('belief_overall.png')\n",
    "plt.show()"
   ]
  },
  {
   "cell_type": "markdown",
   "metadata": {},
   "source": [
    "### Ethnicity\n",
    "\n",
    "The plots show that the vast majority of users are self-described as 'white', followed far behind by 'asian', 'hispanic/latin', and 'black'. Although it may be possible to create subgroups of the remainders"
   ]
  },
  {
   "cell_type": "code",
   "execution_count": 688,
   "metadata": {},
   "outputs": [
    {
     "name": "stdout",
     "output_type": "stream",
     "text": [
      "(54266, 31)\n",
      "white                                                                     32831\n",
      "asian                                                                      6134\n",
      "hispanic / latin                                                           2823\n",
      "black                                                                      2008\n",
      "other                                                                      1706\n",
      "                                                                          ...  \n",
      "middle eastern, native american                                               1\n",
      "asian, middle eastern, hispanic / latin                                       1\n",
      "asian, middle eastern, native american, pacific islander, white, other        1\n",
      "native american, indian, white                                                1\n",
      "asian, black, indian, hispanic / latin, other                                 1\n",
      "Name: ethnicity, Length: 217, dtype: int64\n",
      "0        False\n",
      "1        False\n",
      "3        False\n",
      "4         True\n",
      "5        False\n",
      "         ...  \n",
      "59940    False\n",
      "59942    False\n",
      "59943    False\n",
      "59944     True\n",
      "59945    False\n",
      "Name: ethnicity, Length: 54266, dtype: bool\n",
      "                             index  ethnicity\n",
      "0                            white      32831\n",
      "1                            asian       6134\n",
      "2                 hispanic / latin       2823\n",
      "3                          other_2       2069\n",
      "4                            black       2008\n",
      "5                            other       1706\n",
      "6          hispanic / latin, white       1301\n",
      "7                           indian       1077\n",
      "8                     asian, white        811\n",
      "9                     white, other        641\n",
      "10                pacific islander        432\n",
      "11         asian, pacific islander        395\n",
      "12          native american, white        338\n",
      "13                  middle eastern        329\n",
      "14           middle eastern, white        300\n",
      "15                    black, white        298\n",
      "16         pacific islander, white        156\n",
      "17         hispanic / latin, other        138\n",
      "18                    black, other        133\n",
      "19         black, hispanic / latin        119\n",
      "20  hispanic / latin, white, other        117\n",
      "21   black, native american, white        110\n"
     ]
    }
   ],
   "source": [
    "# Below groups any ethnicities with counts 100 or less into the group 'other_2'\n",
    "profiles_eth = profiles.dropna(subset=['ethnicity']).copy()\n",
    "print(profiles_eth.shape)\n",
    "\n",
    "\n",
    "ethnicity_counts = profiles_eth['ethnicity'].value_counts()\n",
    "print(ethnicity_counts)\n",
    "mask = profiles_eth['ethnicity'].isin(ethnicity_counts[ethnicity_counts < 101].index)\n",
    "print(mask)\n",
    "profiles_eth[mask] = 'other_2'\n",
    "ethnicity_count_sort = profiles_eth.ethnicity.value_counts().reset_index()\n",
    "print(ethnicity_count_sort)\n",
    "\n",
    "# Note- two methods to get the count of a specific value in a column. Second method is much faster.\n",
    "# %timeit profiles_eth[profiles_eth['ethnicity'] == 'white']['ethnicity'].count()\n",
    "# %timeit profiles_eth['ethnicity'].value_counts()['white']\n",
    "\n",
    "\n",
    "num_white = profiles_eth['ethnicity'].value_counts()['white']\n",
    "num_other_2 = profiles_eth['ethnicity'].value_counts()['other_2']\n",
    "# print(num_other_2)\n",
    "\n"
   ]
  },
  {
   "cell_type": "code",
   "execution_count": 680,
   "metadata": {
    "scrolled": false
   },
   "outputs": [
    {
     "data": {
      "text/plain": [
       "Text(0.5, 1.0, 'Count by Ethnicity')"
      ]
     },
     "execution_count": 680,
     "metadata": {},
     "output_type": "execute_result"
    },
    {
     "data": {
      "image/png": "[encoded data removed]",
      "text/plain": [
       "<Figure size 864x864 with 1 Axes>"
      ]
     },
     "metadata": {},
     "output_type": "display_data"
    }
   ],
   "source": [
    "plt.figure(figsize=(12,12))\n",
    "sns.barplot(x=ethnicity_count_sort['ethnicity'], y=ethnicity_count_sort['index'])\n",
    "plt.title('Count by Ethnicity')\n",
    "# plt.savefig('ethinicity.png')"
   ]
  },
  {
   "cell_type": "code",
   "execution_count": 699,
   "metadata": {},
   "outputs": [
    {
     "name": "stdout",
     "output_type": "stream",
     "text": [
      "eat\n"
     ]
    }
   ],
   "source": [
    "strlll = 'eat'\n",
    "print(strlll.split(',')[0])"
   ]
  },
  {
   "cell_type": "code",
   "execution_count": 703,
   "metadata": {},
   "outputs": [
    {
     "name": "stdout",
     "output_type": "stream",
     "text": [
      "              index  first_eth\n",
      "0             white      33472\n",
      "1             asian       8205\n",
      "2  hispanic / latin       4379\n",
      "3             black       3071\n",
      "4             other       1706\n",
      "5            indian       1196\n",
      "6    middle eastern        811\n",
      "7  pacific islander        717\n",
      "8   native american        709\n"
     ]
    },
    {
     "data": {
      "image/png": "[encoded data removed]",
      "text/plain": [
       "<Figure size 864x864 with 1 Axes>"
      ]
     },
     "metadata": {},
     "output_type": "display_data"
    }
   ],
   "source": [
    "# Now check mixed ethnicity: for single ethnicity, keep as is. For multiethnicity, keep first entry then add 'mix'\n",
    "\n",
    "profiles_eth2 = profiles.dropna(subset=['ethnicity']).copy()\n",
    "\n",
    "profiles_eth2['first_eth'] = profiles_eth2.apply(lambda row: (row['ethnicity'].split(','))[0], axis = 1)\n",
    "eth_count_sort = (profiles_eth2['first_eth'].value_counts().reset_index())\n",
    "print(eth_count_sort)\n",
    "plt.figure(figsize=(12,12))\n",
    "sns.barplot(x=eth_count_sort['first_eth'], y=eth_count_sort['index'])\n",
    "plt.xlabel('Count')\n",
    "plt.ylabel('Ethnicity')\n",
    "plt.title('Count by Ethnicity Mix')\n",
    "plt.savefig('ethinicity.png')\n",
    "    \n",
    "# profiles_eth2['first_eth'] = profiles_eth2.apply(lambda row: row['ethnicity'] if len(row['ethnicity'].split(',')) == 1 \\\n",
    "#                                                else (row['ethnicity'].split(','))[0] + ' mix', axis=1)\n",
    "# eth_count_sort = (profiles_eth2['first_eth'].value_counts().reset_index())\n",
    "# print(eth_count_sort)\n",
    "# plt.figure(figsize=(12,12))\n",
    "# sns.barplot(x=eth_count_sort['first_eth'], y=eth_count_sort['index'])\n",
    "# plt.title('Count by Ethnicity Mix')\n",
    "# # plt.savefig('ethinicity.png')\n"
   ]
  },
  {
   "cell_type": "markdown",
   "metadata": {},
   "source": [
    "##  Natural Language Processing\n",
    "\n",
    "Use scikit-learn's bag-of-words and Naive Bayes classifier to determine the author of a writing selection.\n",
    "\n",
    "- **Goal** There are 10 essay-type answers that each user submitted when creating their profile. The goal will be to select 10 users at random and use a random selection of 8 of their essay answers in order to train the model. Then given  9 and 10th essays, see how accurately the model can guess the correct user.\n",
    "- **Data** As noted, data will be `essay0` through `essay9` from 10 random users. \n",
    "- **Analysis** The analysis will use scikit-learn's bag-of-words and Naive Bayes classifier. The 10 random users will need to have answered all 10 essay questions so that we don't inadvertently have NaNs to clog up the model. "
   ]
  },
  {
   "cell_type": "code",
   "execution_count": 11,
   "metadata": {},
   "outputs": [
    {
     "name": "stdout",
     "output_type": "stream",
     "text": [
      "(29866, 10)\n"
     ]
    }
   ],
   "source": [
    "# Copy profiles dataset, and drop all rows with any null values in any of the essay questions. \n",
    "\n",
    "profiles_essays = profiles[['essay0', 'essay1', 'essay2', 'essay3', 'essay4', \\\n",
    "                            'essay5', 'essay6', 'essay7', 'essay8', 'essay9',]].dropna()\n",
    "\n",
    "# Check remaining users. NOTE- from .shape, 29866 users answered all ten essays. OK to proceed. \n",
    "print(profiles_essays.shape)"
   ]
  },
  {
   "cell_type": "code",
   "execution_count": 221,
   "metadata": {},
   "outputs": [
    {
     "name": "stdout",
     "output_type": "stream",
     "text": [
      "(3, 10)\n",
      "For index 0 predicted [1]\n",
      "For index 1 predicted [1]: MATCH!!!\n",
      "For index 2 predicted [2]: MATCH!!!\n",
      "Correct ratio is: 0.2\n"
     ]
    }
   ],
   "source": [
    "# Select 10 random users using built-in `.sample` method, then for each select 9 essays to train the model. We might be \n",
    "# able to use .sample again to select random columns, but instead use random indexes so that we can keep track. Use the\n",
    "# remaining essay to predict who the author is.\n",
    "\n",
    "\n",
    "training_essays = []\n",
    "test_essays = []\n",
    "user_labels = []\n",
    "test_labels = []\n",
    "ten_users = profiles_essays.sample(n=10).reset_index(drop=True)\n",
    "print(ten_users.shape)\n",
    "for i in range(len(ten_users)):\n",
    "    rand_index = np.random.randint(10, size = 1)\n",
    "#     if rand_index[0] == rand_index[1]:\n",
    "#         rand_index[1] = (rand_index[0] + 3)%10\n",
    "    \n",
    "    for j in range(len(ten_users.columns)):        \n",
    "        if j not in rand_index:\n",
    "            training_essays.append(ten_users.iloc[i, j])\n",
    "            user_labels.append(i)\n",
    "        else:\n",
    "            test_essays.append(ten_users.iloc[i, j])\n",
    "            test_labels.append(i)\n",
    "\n",
    "from sklearn.feature_extraction.text import CountVectorizer\n",
    "from sklearn.naive_bayes import MultinomialNB\n",
    "\n",
    "bow_vectorizer = CountVectorizer()\n",
    "user_vectors = bow_vectorizer.fit_transform(training_essays)\n",
    "\n",
    "user_classifier = MultinomialNB()\n",
    "user_classifier.fit(user_vectors, user_labels)\n",
    "\n",
    "correct = 0\n",
    "for i in range(10):\n",
    "    test_vector = bow_vectorizer.transform([test_essays[i]])\n",
    "    prediction = user_classifier.predict(test_vector)\n",
    "    if prediction == i:\n",
    "        print(f'For index {i} predicted {prediction}: MATCH!!!')\n",
    "        correct += .1        \n",
    "    else:\n",
    "        print(f'For index {i} predicted {prediction}')\n",
    "    \n",
    "print(f'Correct ratio is: {correct}')"
   ]
  },
  {
   "cell_type": "markdown",
   "metadata": {},
   "source": [
    "### Natural Language Processing\n",
    "\n",
    "- **Conclusions** After running the classifier ten times, the classifier consistently made the correct classification an average of 1.8 times out of 10, which is *slightly* better performance than random guessing. Of course, the solution for better classifications would be to train the model with far more data than the ten essays here. "
   ]
  },
  {
   "cell_type": "code",
   "execution_count": null,
   "metadata": {},
   "outputs": [],
   "source": []
  },
  {
   "cell_type": "code",
   "execution_count": 5,
   "metadata": {},
   "outputs": [
    {
     "name": "stdout",
     "output_type": "stream",
     "text": [
      "the point of the sleeveless turtleneck<br />\n",
      "why people honk so much (not at me)<br />\n",
      "whether i should leverage my skills into something i can do\n",
      "overseas and practice my spanish\n"
     ]
    }
   ],
   "source": [
    "print(profiles['essay6'][999])"
   ]
  },
  {
   "cell_type": "code",
   "execution_count": 6,
   "metadata": {},
   "outputs": [
    {
     "name": "stdout",
     "output_type": "stream",
     "text": [
      "nan\n"
     ]
    }
   ],
   "source": [
    "print(profiles['essay7'][999])"
   ]
  },
  {
   "cell_type": "code",
   "execution_count": 7,
   "metadata": {},
   "outputs": [
    {
     "name": "stdout",
     "output_type": "stream",
     "text": [
      "nan\n"
     ]
    }
   ],
   "source": [
    "print(profiles['essay7'][998])"
   ]
  },
  {
   "cell_type": "code",
   "execution_count": null,
   "metadata": {},
   "outputs": [],
   "source": []
  },
  {
   "cell_type": "code",
   "execution_count": null,
   "metadata": {},
   "outputs": [],
   "source": []
  },
  {
   "cell_type": "code",
   "execution_count": null,
   "metadata": {},
   "outputs": [],
   "source": []
  },
  {
   "cell_type": "code",
   "execution_count": null,
   "metadata": {},
   "outputs": [],
   "source": []
  },
  {
   "cell_type": "code",
   "execution_count": null,
   "metadata": {},
   "outputs": [],
   "source": []
  },
  {
   "cell_type": "code",
   "execution_count": null,
   "metadata": {},
   "outputs": [],
   "source": []
  },
  {
   "cell_type": "code",
   "execution_count": null,
   "metadata": {},
   "outputs": [],
   "source": []
  },
  {
   "cell_type": "code",
   "execution_count": null,
   "metadata": {},
   "outputs": [],
   "source": []
  },
  {
   "cell_type": "code",
   "execution_count": null,
   "metadata": {},
   "outputs": [],
   "source": []
  },
  {
   "cell_type": "code",
   "execution_count": null,
   "metadata": {},
   "outputs": [],
   "source": []
  },
  {
   "cell_type": "code",
   "execution_count": null,
   "metadata": {},
   "outputs": [],
   "source": []
  }
 ],
 "metadata": {
  "kernelspec": {
   "display_name": "Python 3",
   "language": "python",
   "name": "python3"
  },
  "language_info": {
   "codemirror_mode": {
    "name": "ipython",
    "version": 3
   },
   "file_extension": ".py",
   "mimetype": "text/x-python",
   "name": "python",
   "nbconvert_exporter": "python",
   "pygments_lexer": "ipython3",
   "version": "3.8.8"
  }
 },
 "nbformat": 4,
 "nbformat_minor": 4
}
