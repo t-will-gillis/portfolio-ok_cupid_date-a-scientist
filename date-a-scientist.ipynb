{
 "cells": [
  {
   "cell_type": "markdown",
   "metadata": {},
   "source": [
    "# Introduction\n",
    "\n",
    "The data for this project comes from the OkCupid app. This is an online dating service, where users enter basic information about themselves and answer several multiple choice questions so that they can be matched to other users.\n",
    "\n",
    "The goal of this project is to first review and clean the data, determine what data is available, and create a machine learning model to attempt matching users.\n",
    "\n",
    "The data is provided from OkCupid and Codecademy as `profiles.csv`."
   ]
  },
  {
   "cell_type": "markdown",
   "metadata": {},
   "source": [
    "# Project Scoping\n",
    "\n",
    "The next sections describe the project scope and are to be used to guide the process.\n",
    "\n",
    "### Project Goals\n",
    "\n",
    "Take existing data from the OkCupid app and create a machine learning model to make predictions about users. In the real world, machine learning will make multiple predictions of each user's compatibility with other users and suggest matches. In this case, the specific goal is to see if a machine learning model can correctly predict a user's religious belief based on all other data. \n",
    "\n",
    "### Data\n",
    "\n",
    "Data from OkCupid is provided in `profiles.csv`. The sections below go into more detail about the data: the number of users and their responses to multiple choice and short answer questions.\n",
    "\n",
    "### Analysis\n",
    "\n",
    "The analysis will include visualizations of the data, distribution and counts of variables, and relationships between variables. Then a model will be created using classification algorithms and supervised machine learning to predict a user's religiuos belief.\n",
    "\n",
    "### Evaluation\n",
    "\n",
    "THe model will then be evaluated with a validation data set, and predictions checked using a confusion matrix, and accuracy, precision, recall, F1, and Kappa.\n",
    "\n",
    "\n",
    "\n",
    "\n",
    "\n"
   ]
  },
  {
   "cell_type": "markdown",
   "metadata": {},
   "source": [
    "## Import Python Modules \n",
    "\n",
    "Includes initial modules expected to be utilized."
   ]
  },
  {
   "cell_type": "code",
   "execution_count": 2,
   "metadata": {},
   "outputs": [],
   "source": [
    "import pandas as pd\n",
    "from matplotlib import pyplot as plt\n",
    "import seaborn as sns\n",
    "import numpy as np\n",
    "from decimal import Decimal\n"
   ]
  },
  {
   "cell_type": "markdown",
   "metadata": {},
   "source": [
    "## Load Data and Review \n",
    "\n",
    "Data from `profiles.csv` read into a dataframe called `profiles`. Then initial data reviewed using `.head()`. "
   ]
  },
  {
   "cell_type": "code",
   "execution_count": 3,
   "metadata": {
    "scrolled": true
   },
   "outputs": [
    {
     "data": {
      "text/html": [
       "<div>\n",
       "<style scoped>\n",
       "    .dataframe tbody tr th:only-of-type {\n",
       "        vertical-align: middle;\n",
       "    }\n",
       "\n",
       "    .dataframe tbody tr th {\n",
       "        vertical-align: top;\n",
       "    }\n",
       "\n",
       "    .dataframe thead th {\n",
       "        text-align: right;\n",
       "    }\n",
       "</style>\n",
       "<table border=\"1\" class=\"dataframe\">\n",
       "  <thead>\n",
       "    <tr style=\"text-align: right;\">\n",
       "      <th></th>\n",
       "      <th>age</th>\n",
       "      <th>body_type</th>\n",
       "      <th>diet</th>\n",
       "      <th>drinks</th>\n",
       "      <th>drugs</th>\n",
       "      <th>education</th>\n",
       "      <th>essay0</th>\n",
       "      <th>essay1</th>\n",
       "      <th>essay2</th>\n",
       "      <th>essay3</th>\n",
       "      <th>...</th>\n",
       "      <th>location</th>\n",
       "      <th>offspring</th>\n",
       "      <th>orientation</th>\n",
       "      <th>pets</th>\n",
       "      <th>religion</th>\n",
       "      <th>sex</th>\n",
       "      <th>sign</th>\n",
       "      <th>smokes</th>\n",
       "      <th>speaks</th>\n",
       "      <th>status</th>\n",
       "    </tr>\n",
       "  </thead>\n",
       "  <tbody>\n",
       "    <tr>\n",
       "      <th>0</th>\n",
       "      <td>22</td>\n",
       "      <td>a little extra</td>\n",
       "      <td>strictly anything</td>\n",
       "      <td>socially</td>\n",
       "      <td>never</td>\n",
       "      <td>working on college/university</td>\n",
       "      <td>about me:&lt;br /&gt;\\n&lt;br /&gt;\\ni would love to think...</td>\n",
       "      <td>currently working as an international agent fo...</td>\n",
       "      <td>making people laugh.&lt;br /&gt;\\nranting about a go...</td>\n",
       "      <td>the way i look. i am a six foot half asian, ha...</td>\n",
       "      <td>...</td>\n",
       "      <td>south san francisco, california</td>\n",
       "      <td>doesn&amp;rsquo;t have kids, but might want them</td>\n",
       "      <td>straight</td>\n",
       "      <td>likes dogs and likes cats</td>\n",
       "      <td>agnosticism and very serious about it</td>\n",
       "      <td>m</td>\n",
       "      <td>gemini</td>\n",
       "      <td>sometimes</td>\n",
       "      <td>english</td>\n",
       "      <td>single</td>\n",
       "    </tr>\n",
       "    <tr>\n",
       "      <th>1</th>\n",
       "      <td>35</td>\n",
       "      <td>average</td>\n",
       "      <td>mostly other</td>\n",
       "      <td>often</td>\n",
       "      <td>sometimes</td>\n",
       "      <td>working on space camp</td>\n",
       "      <td>i am a chef: this is what that means.&lt;br /&gt;\\n1...</td>\n",
       "      <td>dedicating everyday to being an unbelievable b...</td>\n",
       "      <td>being silly. having ridiculous amonts of fun w...</td>\n",
       "      <td>NaN</td>\n",
       "      <td>...</td>\n",
       "      <td>oakland, california</td>\n",
       "      <td>doesn&amp;rsquo;t have kids, but might want them</td>\n",
       "      <td>straight</td>\n",
       "      <td>likes dogs and likes cats</td>\n",
       "      <td>agnosticism but not too serious about it</td>\n",
       "      <td>m</td>\n",
       "      <td>cancer</td>\n",
       "      <td>no</td>\n",
       "      <td>english (fluently), spanish (poorly), french (...</td>\n",
       "      <td>single</td>\n",
       "    </tr>\n",
       "    <tr>\n",
       "      <th>2</th>\n",
       "      <td>38</td>\n",
       "      <td>thin</td>\n",
       "      <td>anything</td>\n",
       "      <td>socially</td>\n",
       "      <td>NaN</td>\n",
       "      <td>graduated from masters program</td>\n",
       "      <td>i'm not ashamed of much, but writing public te...</td>\n",
       "      <td>i make nerdy software for musicians, artists, ...</td>\n",
       "      <td>improvising in different contexts. alternating...</td>\n",
       "      <td>my large jaw and large glasses are the physica...</td>\n",
       "      <td>...</td>\n",
       "      <td>san francisco, california</td>\n",
       "      <td>NaN</td>\n",
       "      <td>straight</td>\n",
       "      <td>has cats</td>\n",
       "      <td>NaN</td>\n",
       "      <td>m</td>\n",
       "      <td>pisces but it doesn&amp;rsquo;t matter</td>\n",
       "      <td>no</td>\n",
       "      <td>english, french, c++</td>\n",
       "      <td>available</td>\n",
       "    </tr>\n",
       "    <tr>\n",
       "      <th>3</th>\n",
       "      <td>23</td>\n",
       "      <td>thin</td>\n",
       "      <td>vegetarian</td>\n",
       "      <td>socially</td>\n",
       "      <td>NaN</td>\n",
       "      <td>working on college/university</td>\n",
       "      <td>i work in a library and go to school. . .</td>\n",
       "      <td>reading things written by old dead people</td>\n",
       "      <td>playing synthesizers and organizing books acco...</td>\n",
       "      <td>socially awkward but i do my best</td>\n",
       "      <td>...</td>\n",
       "      <td>berkeley, california</td>\n",
       "      <td>doesn&amp;rsquo;t want kids</td>\n",
       "      <td>straight</td>\n",
       "      <td>likes cats</td>\n",
       "      <td>NaN</td>\n",
       "      <td>m</td>\n",
       "      <td>pisces</td>\n",
       "      <td>no</td>\n",
       "      <td>english, german (poorly)</td>\n",
       "      <td>single</td>\n",
       "    </tr>\n",
       "    <tr>\n",
       "      <th>4</th>\n",
       "      <td>29</td>\n",
       "      <td>athletic</td>\n",
       "      <td>NaN</td>\n",
       "      <td>socially</td>\n",
       "      <td>never</td>\n",
       "      <td>graduated from college/university</td>\n",
       "      <td>hey how's it going? currently vague on the pro...</td>\n",
       "      <td>work work work work + play</td>\n",
       "      <td>creating imagery to look at:&lt;br /&gt;\\nhttp://bag...</td>\n",
       "      <td>i smile a lot and my inquisitive nature</td>\n",
       "      <td>...</td>\n",
       "      <td>san francisco, california</td>\n",
       "      <td>NaN</td>\n",
       "      <td>straight</td>\n",
       "      <td>likes dogs and likes cats</td>\n",
       "      <td>NaN</td>\n",
       "      <td>m</td>\n",
       "      <td>aquarius</td>\n",
       "      <td>no</td>\n",
       "      <td>english</td>\n",
       "      <td>single</td>\n",
       "    </tr>\n",
       "  </tbody>\n",
       "</table>\n",
       "<p>5 rows × 31 columns</p>\n",
       "</div>"
      ],
      "text/plain": [
       "   age       body_type               diet    drinks      drugs  \\\n",
       "0   22  a little extra  strictly anything  socially      never   \n",
       "1   35         average       mostly other     often  sometimes   \n",
       "2   38            thin           anything  socially        NaN   \n",
       "3   23            thin         vegetarian  socially        NaN   \n",
       "4   29        athletic                NaN  socially      never   \n",
       "\n",
       "                           education  \\\n",
       "0      working on college/university   \n",
       "1              working on space camp   \n",
       "2     graduated from masters program   \n",
       "3      working on college/university   \n",
       "4  graduated from college/university   \n",
       "\n",
       "                                              essay0  \\\n",
       "0  about me:<br />\\n<br />\\ni would love to think...   \n",
       "1  i am a chef: this is what that means.<br />\\n1...   \n",
       "2  i'm not ashamed of much, but writing public te...   \n",
       "3          i work in a library and go to school. . .   \n",
       "4  hey how's it going? currently vague on the pro...   \n",
       "\n",
       "                                              essay1  \\\n",
       "0  currently working as an international agent fo...   \n",
       "1  dedicating everyday to being an unbelievable b...   \n",
       "2  i make nerdy software for musicians, artists, ...   \n",
       "3          reading things written by old dead people   \n",
       "4                         work work work work + play   \n",
       "\n",
       "                                              essay2  \\\n",
       "0  making people laugh.<br />\\nranting about a go...   \n",
       "1  being silly. having ridiculous amonts of fun w...   \n",
       "2  improvising in different contexts. alternating...   \n",
       "3  playing synthesizers and organizing books acco...   \n",
       "4  creating imagery to look at:<br />\\nhttp://bag...   \n",
       "\n",
       "                                              essay3  ...  \\\n",
       "0  the way i look. i am a six foot half asian, ha...  ...   \n",
       "1                                                NaN  ...   \n",
       "2  my large jaw and large glasses are the physica...  ...   \n",
       "3                  socially awkward but i do my best  ...   \n",
       "4            i smile a lot and my inquisitive nature  ...   \n",
       "\n",
       "                          location  \\\n",
       "0  south san francisco, california   \n",
       "1              oakland, california   \n",
       "2        san francisco, california   \n",
       "3             berkeley, california   \n",
       "4        san francisco, california   \n",
       "\n",
       "                                      offspring orientation  \\\n",
       "0  doesn&rsquo;t have kids, but might want them    straight   \n",
       "1  doesn&rsquo;t have kids, but might want them    straight   \n",
       "2                                           NaN    straight   \n",
       "3                       doesn&rsquo;t want kids    straight   \n",
       "4                                           NaN    straight   \n",
       "\n",
       "                        pets                                  religion sex  \\\n",
       "0  likes dogs and likes cats     agnosticism and very serious about it   m   \n",
       "1  likes dogs and likes cats  agnosticism but not too serious about it   m   \n",
       "2                   has cats                                       NaN   m   \n",
       "3                 likes cats                                       NaN   m   \n",
       "4  likes dogs and likes cats                                       NaN   m   \n",
       "\n",
       "                                 sign     smokes  \\\n",
       "0                              gemini  sometimes   \n",
       "1                              cancer         no   \n",
       "2  pisces but it doesn&rsquo;t matter         no   \n",
       "3                              pisces         no   \n",
       "4                            aquarius         no   \n",
       "\n",
       "                                              speaks     status  \n",
       "0                                            english     single  \n",
       "1  english (fluently), spanish (poorly), french (...     single  \n",
       "2                               english, french, c++  available  \n",
       "3                           english, german (poorly)     single  \n",
       "4                                            english     single  \n",
       "\n",
       "[5 rows x 31 columns]"
      ]
     },
     "execution_count": 3,
     "metadata": {},
     "output_type": "execute_result"
    }
   ],
   "source": [
    "profiles = pd.read_csv('profiles.csv', encoding='utf-8')\n",
    "profiles.head()"
   ]
  },
  {
   "cell_type": "code",
   "execution_count": 4,
   "metadata": {},
   "outputs": [
    {
     "data": {
      "text/plain": [
       "(59946, 31)"
      ]
     },
     "execution_count": 4,
     "metadata": {},
     "output_type": "execute_result"
    }
   ],
   "source": [
    "profiles.shape"
   ]
  },
  {
   "cell_type": "code",
   "execution_count": 5,
   "metadata": {},
   "outputs": [
    {
     "data": {
      "text/plain": [
       "['age',\n",
       " 'body_type',\n",
       " 'diet',\n",
       " 'drinks',\n",
       " 'drugs',\n",
       " 'education',\n",
       " 'essay0',\n",
       " 'essay1',\n",
       " 'essay2',\n",
       " 'essay3',\n",
       " 'essay4',\n",
       " 'essay5',\n",
       " 'essay6',\n",
       " 'essay7',\n",
       " 'essay8',\n",
       " 'essay9',\n",
       " 'ethnicity',\n",
       " 'height',\n",
       " 'income',\n",
       " 'job',\n",
       " 'last_online',\n",
       " 'location',\n",
       " 'offspring',\n",
       " 'orientation',\n",
       " 'pets',\n",
       " 'religion',\n",
       " 'sex',\n",
       " 'sign',\n",
       " 'smokes',\n",
       " 'speaks',\n",
       " 'status']"
      ]
     },
     "execution_count": 5,
     "metadata": {},
     "output_type": "execute_result"
    }
   ],
   "source": [
    "list(profiles.columns)"
   ]
  },
  {
   "cell_type": "code",
   "execution_count": 6,
   "metadata": {},
   "outputs": [
    {
     "data": {
      "text/plain": [
       "dtype('int64')"
      ]
     },
     "execution_count": 6,
     "metadata": {},
     "output_type": "execute_result"
    }
   ],
   "source": [
    "profiles.age.dtypes"
   ]
  },
  {
   "cell_type": "markdown",
   "metadata": {},
   "source": [
    "### Data Summary\n",
    "\n",
    "From `profiles.shape` there are almost 60k rows (i.e. unique users) with 31 columns. \n",
    "\n",
    "The dataset column titles from `profiles.columns` are:\n",
    "\n",
    "- **age:** continuous variable in years (int64)\n",
    "- **body_type:** categorical variable \n",
    "- **diet:** categorical variable\n",
    "- **drinks:** categorical variable (alcohol consumption)\n",
    "- **drugs:** categorical variable (drug usage)\n",
    "- **education:** categorical variable\n",
    "\n",
    "- **essay0:** \"My self summary\"\n",
    "- **essay1:** \"What I'm doing with my life\"\n",
    "- **essay2:** \"What I'm really good at\"\n",
    "- **essay3:** \"The first thing people notice about me\"\n",
    "- **essay4:** \"Favorite books, movies, shows, music, and food\"\n",
    "- **essay5:** \"The six things I could never do without\"\n",
    "- **essay6:** \"I spend a lot of time thinking about...\"\n",
    "- **essay7:** \"On a typical Friday night I am...\"\n",
    "- **essay8:** \"The most private thing I am willing to admit\"\n",
    "- **essay9:** \"You should message me if...\"\n",
    "\n",
    "- **ethnicity:** categorical variable\n",
    "- **height:** continuous variable in inches (float64)\n",
    "- **income:** continuous variable in USD assumed (int64)\n",
    "- **job:** categorical variable (by inspection, from dropdown menu) \n",
    "- **last_online:** categorical variable\n",
    "- **location:** categorical variable\n",
    "- **offspring:** categorical variable\n",
    "- **orientation:** categorical variable\n",
    "- **pets:** categorical variable\n",
    "- **religion:** categorical variable\n",
    "- **sex:** categorical variable\n",
    "- **sign:** categorical variable\n",
    "- **smokes:** categorical variable\n",
    "- **speaks:** categorical variable\n",
    "- **status:** categorical variable\n"
   ]
  },
  {
   "cell_type": "markdown",
   "metadata": {},
   "source": [
    "## Explore the data\n",
    "\n",
    "For all columns with continuous variables, explore the number of unique responses and in some cases list those. A method is provided here to give data on all column at once. It will alphabetize the list when sorting (removing NaN first...)"
   ]
  },
  {
   "cell_type": "code",
   "execution_count": 7,
   "metadata": {},
   "outputs": [
    {
     "name": "stdout",
     "output_type": "stream",
     "text": [
      "Column BODY_TYPE has 12 categories\n",
      "Column DIET has 18 categories\n",
      "Column DRINKS has 6 categories\n",
      "Column DRUGS has 3 categories\n",
      "Column EDUCATION has 32 categories\n",
      "Column ESSAY0 has 54350 categories\n",
      "Column ESSAY1 has 51516 categories\n",
      "Column ESSAY2 has 48635 categories\n",
      "Column ESSAY3 has 43533 categories\n",
      "Column ESSAY4 has 49260 categories\n",
      "Column ESSAY5 has 48963 categories\n",
      "Column ESSAY6 has 43603 categories\n",
      "Column ESSAY7 has 45554 categories\n",
      "Column ESSAY8 has 39324 categories\n",
      "Column ESSAY9 has 45443 categories\n",
      "Column ETHNICITY has 217 categories\n",
      "Column JOB has 21 categories\n",
      "Column LAST_ONLINE has 30123 categories\n",
      "Column LOCATION has 199 categories\n",
      "Column OFFSPRING has 15 categories\n",
      "Column ORIENTATION has 3 categories\n",
      "Column PETS has 15 categories\n",
      "Column RELIGION has 45 categories\n",
      "Column SEX has 2 categories\n",
      "Column SIGN has 48 categories\n",
      "Column SMOKES has 5 categories\n",
      "Column SPEAKS has 7647 categories\n",
      "Column STATUS has 5 categories\n"
     ]
    }
   ],
   "source": [
    "object_cols = []\n",
    "for column in profiles.columns:\n",
    "    if profiles[column].dtypes == 'object':\n",
    "        object_cols.append(column)\n",
    "        print(f'Column {column.upper()} has {profiles[column].nunique()} categories')   \n",
    "        "
   ]
  },
  {
   "cell_type": "markdown",
   "metadata": {},
   "source": [
    "Next, a method is provided to permit review of unique responses for each column invidually. This will give an idea of the scope of data, which variables need to be cleaned and/or regrouped to suit the project requirements, etc."
   ]
  },
  {
   "cell_type": "code",
   "execution_count": 8,
   "metadata": {},
   "outputs": [],
   "source": [
    "def unique_entries(column):\n",
    "    len_pre_nan = profiles[column].isnull().sum()\n",
    "    clean_column = profiles[column].dropna()\n",
    "    len_post = len(clean_column)\n",
    "    col_entries = list(clean_column.unique())\n",
    "    print(f'For column {column.upper()}, {len_post} entries remain after {len_pre_nan} NaNs deleted.')\n",
    "    print(sorted(col_entries))\n",
    "\n",
    "    \n",
    "def unique_list(column):\n",
    "    clean_column = profiles[column].dropna()\n",
    "    col_entries = list(clean_column.unique())\n",
    "    return col_entries\n"
   ]
  },
  {
   "cell_type": "code",
   "execution_count": 9,
   "metadata": {},
   "outputs": [],
   "source": [
    "# unique_entries('body_type')"
   ]
  },
  {
   "cell_type": "code",
   "execution_count": 10,
   "metadata": {},
   "outputs": [],
   "source": [
    "# unique_entries('diet')"
   ]
  },
  {
   "cell_type": "code",
   "execution_count": 11,
   "metadata": {},
   "outputs": [],
   "source": [
    "# unique_entries('drinks')"
   ]
  },
  {
   "cell_type": "code",
   "execution_count": 12,
   "metadata": {},
   "outputs": [],
   "source": [
    "# unique_entries('drugs')"
   ]
  },
  {
   "cell_type": "code",
   "execution_count": 13,
   "metadata": {},
   "outputs": [
    {
     "name": "stdout",
     "output_type": "stream",
     "text": [
      "For column ETHNICITY, 54266 entries remain after 5680 NaNs deleted.\n",
      "['asian', 'asian, black', 'asian, black, hispanic / latin', 'asian, black, hispanic / latin, other', 'asian, black, hispanic / latin, white', 'asian, black, hispanic / latin, white, other', 'asian, black, indian', 'asian, black, indian, hispanic / latin, other', 'asian, black, native american', 'asian, black, native american, hispanic / latin', 'asian, black, native american, hispanic / latin, white', 'asian, black, native american, indian', 'asian, black, native american, indian, hispanic / latin, white, other', 'asian, black, native american, indian, pacific islander, hispanic / latin', 'asian, black, native american, indian, pacific islander, white', 'asian, black, native american, other', 'asian, black, native american, pacific islander', 'asian, black, native american, pacific islander, other', 'asian, black, native american, pacific islander, white', 'asian, black, native american, pacific islander, white, other', 'asian, black, native american, white', 'asian, black, native american, white, other', 'asian, black, other', 'asian, black, pacific islander', 'asian, black, pacific islander, hispanic / latin', 'asian, black, pacific islander, hispanic / latin, white', 'asian, black, pacific islander, other', 'asian, black, pacific islander, white', 'asian, black, pacific islander, white, other', 'asian, black, white', 'asian, black, white, other', 'asian, hispanic / latin', 'asian, hispanic / latin, other', 'asian, hispanic / latin, white', 'asian, hispanic / latin, white, other', 'asian, indian', 'asian, indian, hispanic / latin', 'asian, indian, hispanic / latin, other', 'asian, indian, hispanic / latin, white', 'asian, indian, other', 'asian, indian, pacific islander', 'asian, indian, pacific islander, hispanic / latin, white, other', 'asian, indian, pacific islander, other', 'asian, indian, white', 'asian, indian, white, other', 'asian, middle eastern', 'asian, middle eastern, black', 'asian, middle eastern, black, indian, pacific islander, hispanic / latin, white', 'asian, middle eastern, black, native american, hispanic / latin, white', 'asian, middle eastern, black, native american, indian, pacific islander, hispanic / latin', 'asian, middle eastern, black, native american, indian, pacific islander, hispanic / latin, other', 'asian, middle eastern, black, native american, indian, pacific islander, hispanic / latin, white', 'asian, middle eastern, black, native american, indian, pacific islander, hispanic / latin, white, other', 'asian, middle eastern, black, native american, indian, pacific islander, white', 'asian, middle eastern, black, native american, pacific islander, hispanic / latin, white, other', 'asian, middle eastern, black, pacific islander', 'asian, middle eastern, black, pacific islander, hispanic / latin', 'asian, middle eastern, black, pacific islander, hispanic / latin, white', 'asian, middle eastern, black, white, other', 'asian, middle eastern, hispanic / latin', 'asian, middle eastern, hispanic / latin, white', 'asian, middle eastern, hispanic / latin, white, other', 'asian, middle eastern, indian', 'asian, middle eastern, indian, hispanic / latin', 'asian, middle eastern, indian, hispanic / latin, white, other', 'asian, middle eastern, indian, other', 'asian, middle eastern, native american, hispanic / latin, white', 'asian, middle eastern, native american, indian, pacific islander, hispanic / latin, white', 'asian, middle eastern, native american, pacific islander, hispanic / latin, white, other', 'asian, middle eastern, native american, pacific islander, other', 'asian, middle eastern, native american, pacific islander, white, other', 'asian, middle eastern, other', 'asian, middle eastern, white', 'asian, middle eastern, white, other', 'asian, native american', 'asian, native american, hispanic / latin', 'asian, native american, hispanic / latin, other', 'asian, native american, hispanic / latin, white', 'asian, native american, hispanic / latin, white, other', 'asian, native american, indian, pacific islander, hispanic / latin, white', 'asian, native american, indian, pacific islander, hispanic / latin, white, other', 'asian, native american, other', 'asian, native american, pacific islander', 'asian, native american, pacific islander, hispanic / latin, white', 'asian, native american, pacific islander, hispanic / latin, white, other', 'asian, native american, pacific islander, white', 'asian, native american, pacific islander, white, other', 'asian, native american, white', 'asian, native american, white, other', 'asian, other', 'asian, pacific islander', 'asian, pacific islander, hispanic / latin', 'asian, pacific islander, hispanic / latin, other', 'asian, pacific islander, hispanic / latin, white', 'asian, pacific islander, hispanic / latin, white, other', 'asian, pacific islander, other', 'asian, pacific islander, white', 'asian, pacific islander, white, other', 'asian, white', 'asian, white, other', 'black', 'black, hispanic / latin', 'black, hispanic / latin, other', 'black, hispanic / latin, white', 'black, hispanic / latin, white, other', 'black, indian', 'black, indian, hispanic / latin', 'black, indian, hispanic / latin, white', 'black, indian, other', 'black, indian, white', 'black, indian, white, other', 'black, native american', 'black, native american, hispanic / latin', 'black, native american, hispanic / latin, other', 'black, native american, hispanic / latin, white', 'black, native american, hispanic / latin, white, other', 'black, native american, indian', 'black, native american, indian, hispanic / latin, white, other', 'black, native american, indian, other', 'black, native american, indian, pacific islander', 'black, native american, indian, pacific islander, hispanic / latin', 'black, native american, indian, white', 'black, native american, indian, white, other', 'black, native american, other', 'black, native american, pacific islander', 'black, native american, pacific islander, hispanic / latin', 'black, native american, pacific islander, hispanic / latin, white', 'black, native american, pacific islander, hispanic / latin, white, other', 'black, native american, pacific islander, other', 'black, native american, pacific islander, white', 'black, native american, pacific islander, white, other', 'black, native american, white', 'black, native american, white, other', 'black, other', 'black, pacific islander', 'black, pacific islander, hispanic / latin', 'black, pacific islander, other', 'black, pacific islander, white', 'black, white', 'black, white, other', 'hispanic / latin', 'hispanic / latin, other', 'hispanic / latin, white', 'hispanic / latin, white, other', 'indian', 'indian, hispanic / latin', 'indian, hispanic / latin, other', 'indian, hispanic / latin, white', 'indian, hispanic / latin, white, other', 'indian, other', 'indian, pacific islander', 'indian, pacific islander, hispanic / latin, white', 'indian, white', 'indian, white, other', 'middle eastern', 'middle eastern, black', 'middle eastern, black, hispanic / latin', 'middle eastern, black, indian, pacific islander, hispanic / latin, white', 'middle eastern, black, native american, hispanic / latin, white', 'middle eastern, black, native american, indian', 'middle eastern, black, native american, indian, hispanic / latin, white', 'middle eastern, black, native american, indian, pacific islander, hispanic / latin, white', 'middle eastern, black, native american, indian, pacific islander, hispanic / latin, white, other', 'middle eastern, black, native american, indian, white, other', 'middle eastern, black, native american, white', 'middle eastern, black, native american, white, other', 'middle eastern, black, other', 'middle eastern, black, pacific islander, white', 'middle eastern, black, white', 'middle eastern, hispanic / latin', 'middle eastern, hispanic / latin, other', 'middle eastern, hispanic / latin, white', 'middle eastern, hispanic / latin, white, other', 'middle eastern, indian', 'middle eastern, indian, other', 'middle eastern, indian, white', 'middle eastern, indian, white, other', 'middle eastern, native american', 'middle eastern, native american, hispanic / latin', 'middle eastern, native american, hispanic / latin, white', 'middle eastern, native american, hispanic / latin, white, other', 'middle eastern, native american, white', 'middle eastern, native american, white, other', 'middle eastern, other', 'middle eastern, pacific islander', 'middle eastern, pacific islander, hispanic / latin', 'middle eastern, pacific islander, other', 'middle eastern, white', 'middle eastern, white, other', 'native american', 'native american, hispanic / latin', 'native american, hispanic / latin, other', 'native american, hispanic / latin, white', 'native american, hispanic / latin, white, other', 'native american, indian', 'native american, indian, pacific islander, hispanic / latin', 'native american, indian, white', 'native american, other', 'native american, pacific islander', 'native american, pacific islander, hispanic / latin', 'native american, pacific islander, hispanic / latin, white', 'native american, pacific islander, hispanic / latin, white, other', 'native american, pacific islander, white', 'native american, pacific islander, white, other', 'native american, white', 'native american, white, other', 'other', 'pacific islander', 'pacific islander, hispanic / latin', 'pacific islander, hispanic / latin, other', 'pacific islander, hispanic / latin, white', 'pacific islander, hispanic / latin, white, other', 'pacific islander, other', 'pacific islander, white', 'pacific islander, white, other', 'white', 'white, other']\n"
     ]
    }
   ],
   "source": [
    "unique_entries('ethnicity')"
   ]
  },
  {
   "cell_type": "code",
   "execution_count": 14,
   "metadata": {},
   "outputs": [],
   "source": [
    "# unique_entries('education')"
   ]
  },
  {
   "cell_type": "code",
   "execution_count": 15,
   "metadata": {},
   "outputs": [],
   "source": [
    "# unique_entries('job')"
   ]
  },
  {
   "cell_type": "code",
   "execution_count": 16,
   "metadata": {},
   "outputs": [],
   "source": [
    "# unique_entries('location')"
   ]
  },
  {
   "cell_type": "code",
   "execution_count": 17,
   "metadata": {},
   "outputs": [],
   "source": [
    "# unique_entries('offspring')"
   ]
  },
  {
   "cell_type": "code",
   "execution_count": 18,
   "metadata": {},
   "outputs": [],
   "source": [
    "# unique_entries('pets')"
   ]
  },
  {
   "cell_type": "code",
   "execution_count": 19,
   "metadata": {},
   "outputs": [],
   "source": [
    "# unique_enatries('sex')"
   ]
  },
  {
   "cell_type": "code",
   "execution_count": 20,
   "metadata": {},
   "outputs": [],
   "source": [
    "# unique_entries('religion')"
   ]
  },
  {
   "cell_type": "code",
   "execution_count": 21,
   "metadata": {},
   "outputs": [],
   "source": [
    "# unique_entries('sign')"
   ]
  },
  {
   "cell_type": "code",
   "execution_count": 22,
   "metadata": {},
   "outputs": [],
   "source": [
    "# unique_entries('speaks')"
   ]
  },
  {
   "cell_type": "markdown",
   "metadata": {},
   "source": [
    "## Preliminary Observations of Data\n",
    "\n",
    "- Many columns such as `ethnicity`, `location`, `religion`, `sign` and `speaks` include large amounts of data that can be regrouped for clarity. Using a Bag of Words counter, it may be seen that in each of these cases terms are being repeated.\n",
    "- The column for `location` may be split into city and state/country. A casual look at the data seems to indicate that there is a huge proportion of users from California. \n"
   ]
  },
  {
   "cell_type": "markdown",
   "metadata": {},
   "source": [
    "# Exploration of Variables in More Detail"
   ]
  },
  {
   "cell_type": "markdown",
   "metadata": {},
   "source": [
    "### Religion, Drugs, Drinks, and Smokes \n",
    "\n",
    "These four variables will be explored together, culminating in a Chi Square test to explore preliminary relationsips."
   ]
  },
  {
   "cell_type": "markdown",
   "metadata": {},
   "source": [
    "#### Chi-Square Test\n",
    "\n",
    "Analysis of significant association between variables.\n",
    " \n",
    "- **Goal** Analysis of whether there is a relationship between how religious one describes oneself and self-described drug use and drinking.\n",
    "- **Data** The data tables include the `religion`, `drugs`, `drinks`, and `smokes` columns.  \n",
    "- **Process** The `religion` column will be divided into more strongly affiliated and less strongly affiliated with a belief.  The `drugs`, `drinks`, and `smokes` columns will be ordered and cleaned.\n",
    "   - For religion: the new column will be `beliefs`. The entries '...and very serious about it', '...and somewhat serious about it', and the belief itself are to be categorized as 'strong belief'. Otherwise, the entries '...and not too serious about it', '...and laughing about it' are to be categorized as 'low belief'. "
   ]
  },
  {
   "cell_type": "code",
   "execution_count": 23,
   "metadata": {},
   "outputs": [
    {
     "name": "stdout",
     "output_type": "stream",
     "text": [
      "(30094, 31)\n",
      "belief     high belief  low belief\n",
      "drugs                             \n",
      "never            19802        4371\n",
      "sometimes         4595        1033\n",
      "often              208          85\n",
      "8.965022305044359e-06\n"
     ]
    }
   ],
   "source": [
    "# Drop null values from the following columns\n",
    "profiles_rel = profiles.dropna(subset=['religion', 'drinks', 'drugs', 'smokes']).copy()\n",
    "print(profiles_rel.shape)\n",
    "\n",
    "# This function and the lambda immediately below create column 'belief' \n",
    "def check_for_text(str):\n",
    "#     if (str.__contains__('not too') | str.__contains__('laughing')):\n",
    "    if (str.__contains__('somewhat') | str.__contains__('very')):\n",
    "        return True\n",
    "\n",
    "profiles_rel['belief'] = profiles_rel.apply(lambda row: 'low belief' if check_for_text(row['religion']) else 'high belief', axis = 1)\n",
    "\n",
    "# Sort the sortable categoricals: For 'religion', alphabetize then sort based on seriousness of belief. For the others, sort for\n",
    "# how often the user drinks, uses drugs, or smokes.\n",
    "profiles_rel['religion'] = pd.Categorical(profiles_rel['religion'],\\\n",
    "                        ['agnosticism and laughing about it',  'agnosticism but not too serious about it', \\\n",
    "                         'agnosticism', 'agnosticism and somewhat serious about it', 'agnosticism and very serious about it', \\\n",
    "                         'atheism and laughing about it', 'atheism but not too serious about it', \\\n",
    "                         'atheism', 'atheism and somewhat serious about it', 'atheism and very serious about it',  \\\n",
    "                         'buddhism and laughing about it', 'buddhism but not too serious about it', \\\n",
    "                         'buddhism', 'buddhism and somewhat serious about it', 'buddhism and very serious about it', \\\n",
    "                         'catholicism and laughing about it', 'catholicism but not too serious about it', \\\n",
    "                         'catholicism', 'catholicism and somewhat serious about it', 'catholicism and very serious about it', \\\n",
    "                         'christianity and laughing about it', 'christianity but not too serious about it',\\\n",
    "                         'christianity', 'christianity and somewhat serious about it', 'christianity and very serious about it',\\\n",
    "                         'hinduism and laughing about it', 'hinduism but not too serious about it', \\\n",
    "                         'hinduism', 'hinduism and somewhat serious about it', 'hinduism and very serious about it', \\\n",
    "                         'islam and laughing about it', 'islam but not too serious about it', \\\n",
    "                         'islam', 'islam and somewhat serious about it', 'islam and very serious about it', \\\n",
    "                         'judaism and laughing about it', 'judaism but not too serious about it', \\\n",
    "                         'judaism', 'judaism and somewhat serious about it', 'judaism and very serious about it', \\\n",
    "                         'other and laughing about it', 'other but not too serious about it', \\\n",
    "                         'other', 'other and somewhat serious about it', 'other and very serious about it'], ordered=True)\n",
    "profiles_rel['drugs'] = pd.Categorical(profiles_rel['drugs'], ['never', 'sometimes', 'often'], ordered=True)\n",
    "profiles_rel['drinks'] = pd.Categorical(profiles_rel['drinks'], ['not at all', 'rarely', 'socially', 'often', 'very often', 'desperately'], ordered=True)\n",
    "profiles_rel['smokes'] = pd.Categorical(profiles_rel['smokes'], ['no', 'sometimes', 'when drinking', 'trying to quit', 'yes'], ordered=True)\n",
    "\n",
    "from scipy.stats import chi2_contingency\n",
    "\n",
    "ab_contingency = pd.crosstab(profiles_rel['drugs'], profiles_rel['belief'])\n",
    "print(ab_contingency)\n",
    "chi2, pval, dof, expected = chi2_contingency(ab_contingency)\n",
    "print(pval)\n"
   ]
  },
  {
   "cell_type": "markdown",
   "metadata": {},
   "source": [
    "#### Chi-Square Results\n",
    "\n",
    "- **Conclusions** Comparing `belief` to `drugs`, `drinks`, and `smokes` pval suggests a correlation. As a test, comparing `religion` to `belief` shows pval = 0, or as expected no correlation. "
   ]
  },
  {
   "cell_type": "markdown",
   "metadata": {},
   "source": [
    "### Religion\n",
    "\n",
    "From the chi-square test above 53% of respondents describe their belief of choice as not very serious, while around 29% simply state a belief, and the remaining 18% are more serious about their belief. Per the plot below, for most of the individual beliefs '{belief} but not too serious about it' is the main choice of users. Agnosticism and Atheism are 37.5% of the population, Christianity and Catholicism are 29.6%, Judaism, Buddhism, Hinduism, and Islam are about 14.6%, and Other the remaining 19.2%."
   ]
  },
  {
   "cell_type": "code",
   "execution_count": 24,
   "metadata": {
    "scrolled": true
   },
   "outputs": [
    {
     "data": {
      "image/png": "[encoded data removed]",
      "text/plain": [
       "<Figure size 432x504 with 1 Axes>"
      ]
     },
     "metadata": {
      "needs_background": "light"
     },
     "output_type": "display_data"
    }
   ],
   "source": [
    "fig = plt.figure(figsize=(6,7))\n",
    "sns.set_style('darkgrid')\n",
    "sns.countplot(data=profiles_rel, y='religion')\n",
    "plt.title('Religion Responses Count')\n",
    "fig.tight_layout()\n",
    "plt.savefig('religions.png')"
   ]
  },
  {
   "cell_type": "code",
   "execution_count": 25,
   "metadata": {},
   "outputs": [
    {
     "name": "stdout",
     "output_type": "stream",
     "text": [
      "         belief  count    percent\n",
      "0   agnosticism   6307  20.957666\n",
      "1       atheism   4968  16.508274\n",
      "2      buddhism   1464   4.864757\n",
      "3   catholicism   3920  13.025852\n",
      "4  christianity   4996  16.601316\n",
      "5      hinduism    375   1.246096\n",
      "6         islam    110   0.365521\n",
      "7       judaism   2156   7.164219\n",
      "8         other   5798  19.266299\n"
     ]
    }
   ],
   "source": [
    "# Count totals for each belief\n",
    "profiles_rel['belief_overall'] = profiles_rel.religion.str.split().str.get(0)\n",
    "beliefs_overall = profiles_rel['belief_overall'].value_counts().sort_index().to_frame().reset_index()\n",
    "beliefs_overall.columns = ['belief', 'count']\n",
    "beliefs_overall['percent'] = beliefs_overall['count'].apply(lambda x: x/ len(profiles_rel['belief_overall'])*100)\n",
    "\n",
    "print((beliefs_overall))\n"
   ]
  },
  {
   "cell_type": "code",
   "execution_count": 26,
   "metadata": {},
   "outputs": [
    {
     "data": {
      "image/png": "[encoded data removed]",
      "text/plain": [
       "<Figure size 432x288 with 1 Axes>"
      ]
     },
     "metadata": {},
     "output_type": "display_data"
    }
   ],
   "source": [
    "sns.barplot(x=beliefs_overall['percent'], y=beliefs_overall['belief'])\n",
    "plt.title('Beliefs by Percentage')\n",
    "plt.savefig('belief_overall.png')\n",
    "plt.show()"
   ]
  },
  {
   "cell_type": "markdown",
   "metadata": {},
   "source": [
    "### Drugs\n",
    "\n",
    "The vast majority of respondents (80%) report that they do not use drugs."
   ]
  },
  {
   "cell_type": "code",
   "execution_count": 27,
   "metadata": {},
   "outputs": [
    {
     "name": "stdout",
     "output_type": "stream",
     "text": [
      "       index     drugs    percent\n",
      "0      never  0.803250  80.324982\n",
      "1  sometimes  0.187014  18.701402\n",
      "2      often  0.009736   0.973616\n"
     ]
    },
    {
     "data": {
      "image/png": "[encoded data removed]",
      "text/plain": [
       "<Figure size 432x288 with 1 Axes>"
      ]
     },
     "metadata": {},
     "output_type": "display_data"
    }
   ],
   "source": [
    "drug_counts = profiles_rel['drugs'].value_counts(normalize=True).reset_index()\n",
    "drug_counts['percent'] = drug_counts.apply(lambda row: row['drugs']*100, axis =1)\n",
    "print(drug_counts)\n",
    "\n",
    "sns.barplot(data=drug_counts, x='percent', y='index')\n",
    "plt.xlabel('Percent')\n",
    "plt.ylabel('Drug Use Frequency')\n",
    "plt.title('Percentage of Users\\' Drug Use')\n",
    "plt.savefig('drug_use.png')"
   ]
  },
  {
   "cell_type": "markdown",
   "metadata": {},
   "source": [
    "### Drinks\n",
    "\n",
    "Around 69% of respondents say that they drink 'socially', a little over 10% drink more often, almost 13% drink 'rarely', and almost 8% do not drink at all."
   ]
  },
  {
   "cell_type": "code",
   "execution_count": 28,
   "metadata": {
    "scrolled": true
   },
   "outputs": [
    {
     "name": "stdout",
     "output_type": "stream",
     "text": [
      "         index    drinks    percent\n",
      "0     socially  0.691600  69.159965\n",
      "1       rarely  0.127235  12.723466\n",
      "2        often  0.088556   8.855586\n",
      "3   not at all  0.077324   7.732438\n",
      "4   very often  0.009603   0.960324\n",
      "5  desperately  0.005682   0.568220\n"
     ]
    },
    {
     "data": {
      "image/png": "[encoded data removed]",
      "text/plain": [
       "<Figure size 432x288 with 1 Axes>"
      ]
     },
     "metadata": {},
     "output_type": "display_data"
    }
   ],
   "source": [
    "drink_counts = profiles_rel['drinks'].value_counts(normalize=True).reset_index()\n",
    "drink_counts['percent'] = drink_counts.apply(lambda row: row['drinks']*100, axis =1)\n",
    "print(drink_counts)\n",
    "\n",
    "sns.barplot(data=drink_counts, x='percent', y='index')\n",
    "plt.xlabel('Percent')\n",
    "plt.ylabel('Drinking Frequency')\n",
    "plt.title('Percentage of Users\\' Drinking')\n",
    "plt.savefig('drinking.png')"
   ]
  },
  {
   "cell_type": "markdown",
   "metadata": {},
   "source": [
    "### Smokes\n",
    "\n",
    "The vast majority of respondents (81%) say that they do not smoke at all."
   ]
  },
  {
   "cell_type": "code",
   "execution_count": 29,
   "metadata": {},
   "outputs": [
    {
     "name": "stdout",
     "output_type": "stream",
     "text": [
      "            index    smokes    percent\n",
      "0              no  0.810128  81.012826\n",
      "1       sometimes  0.067655   6.765468\n",
      "2   when drinking  0.052402   5.240247\n",
      "3             yes  0.041968   4.196850\n",
      "4  trying to quit  0.027846   2.784608\n"
     ]
    },
    {
     "data": {
      "image/png": "[encoded data removed]",
      "text/plain": [
       "<Figure size 432x288 with 1 Axes>"
      ]
     },
     "metadata": {},
     "output_type": "display_data"
    }
   ],
   "source": [
    "smoke_counts = profiles_rel['smokes'].value_counts(normalize=True).reset_index()\n",
    "smoke_counts['percent'] = smoke_counts.apply(lambda row: row['smokes']*100, axis =1)\n",
    "print(smoke_counts)\n",
    "\n",
    "sns.barplot(data=smoke_counts, x='percent', y='index')\n",
    "plt.xlabel('Percent')\n",
    "plt.ylabel('Smoking Frequency')\n",
    "plt.title('Percentage of Users\\' Smoking')\n",
    "plt.savefig('smoking.png')"
   ]
  },
  {
   "cell_type": "markdown",
   "metadata": {},
   "source": [
    "### Ethnicity\n",
    "\n",
    "There are over 200 unique entries in this column, which includes entries describing multiple ethnicities. Following is a count of the fully unique ethnicities in the list. There are 9 fully unique, individual ethnicities in the list. \n"
   ]
  },
  {
   "cell_type": "code",
   "execution_count": 30,
   "metadata": {},
   "outputs": [
    {
     "name": "stdout",
     "output_type": "stream",
     "text": [
      "Counter({'asian,': 99, 'hispanic': 99, '/': 99, 'native': 94, 'black,': 93, 'other': 92, 'american,': 89, 'pacific': 81, 'latin,': 71, 'islander,': 68, 'middle': 64, 'white': 62, 'eastern,': 62, 'indian,': 55, 'white,': 52, 'latin': 28, 'islander': 13, 'indian': 10, 'american': 5, 'black': 4, 'eastern': 2, 'asian': 1})\n"
     ]
    }
   ],
   "source": [
    "# Use Counter to find how often each ethnicity is mentioned in the unique list.\n",
    "from collections import Counter\n",
    "\n",
    "tokens = (' '.join(unique_list('ethnicity'))).split()\n",
    "print(Counter(tokens))\n"
   ]
  },
  {
   "cell_type": "markdown",
   "metadata": {},
   "source": [
    "Since there are a very large number of ethnicities, group all multiethnicities with less than 100 users into a new group called `other_2`. This reduces the number of unique groups to 20 which is much more manageable.\n",
    "\n",
    "The plots show that the vast majority of users are self-described as 'white', followed far behind by 'asian', 'hispanic/latin', and 'black'. "
   ]
  },
  {
   "cell_type": "code",
   "execution_count": 31,
   "metadata": {},
   "outputs": [
    {
     "name": "stdout",
     "output_type": "stream",
     "text": [
      "(54266, 31)\n",
      "white                                                                        32831\n",
      "asian                                                                         6134\n",
      "hispanic / latin                                                              2823\n",
      "black                                                                         2008\n",
      "other                                                                         1706\n",
      "                                                                             ...  \n",
      "middle eastern, black, native american, indian                                   1\n",
      "black, native american, indian                                                   1\n",
      "asian, native american, indian, pacific islander, hispanic / latin, white        1\n",
      "asian, black, pacific islander, other                                            1\n",
      "middle eastern, black, native american, indian, hispanic / latin, white          1\n",
      "Name: ethnicity, Length: 217, dtype: int64\n",
      "                             index  ethnicity\n",
      "0                            white      32831\n",
      "1                            asian       6134\n",
      "2                 hispanic / latin       2823\n",
      "3                          other_2       2069\n",
      "4                            black       2008\n",
      "5                            other       1706\n",
      "6          hispanic / latin, white       1301\n",
      "7                           indian       1077\n",
      "8                     asian, white        811\n",
      "9                     white, other        641\n",
      "10                pacific islander        432\n",
      "11         asian, pacific islander        395\n",
      "12          native american, white        338\n",
      "13                  middle eastern        329\n",
      "14           middle eastern, white        300\n",
      "15                    black, white        298\n",
      "16         pacific islander, white        156\n",
      "17         hispanic / latin, other        138\n",
      "18                    black, other        133\n",
      "19         black, hispanic / latin        119\n",
      "20  hispanic / latin, white, other        117\n",
      "21   black, native american, white        110\n",
      "32831\n"
     ]
    }
   ],
   "source": [
    "# To reduce the number of unique ethnicities, first group any ethnicities with counts 100 or less into the group 'other_2'. \n",
    "profiles_eth = profiles.dropna(subset=['ethnicity']).copy()\n",
    "print(profiles_eth.shape)\n",
    "# print(profiles_eth)\n",
    "\n",
    "# profiles_eth['ethnicity'] = pd.Categorical(profiles_eth['ethnicity'], ordered=True)\n",
    "ethnicity_counts = profiles_eth['ethnicity'].value_counts()\n",
    "\n",
    "print(ethnicity_counts)\n",
    "\n",
    "mask = profiles_eth['ethnicity'].isin(ethnicity_counts[ethnicity_counts < 101].index)\n",
    "# print(profiles_eth)\n",
    "# print(mask)\n",
    "profiles_eth[mask] = 'other_2'\n",
    "ethnicity_count_sort = profiles_eth.ethnicity.value_counts().reset_index()\n",
    "print(ethnicity_count_sort)\n",
    "\n",
    "#     # Note- two methods to get the count of a specific value in a column. Second method is much faster.\n",
    "#     # %timeit profiles_eth[profiles_eth['ethnicity'] == 'white']['ethnicity'].count()\n",
    "#     # %timeit profiles_eth['ethnicity'].value_counts()['white']\n",
    "\n",
    "\n",
    "num_white = profiles_eth['ethnicity'].value_counts()['white']\n",
    "# num_other_2 = profiles_eth['ethnicity'].value_counts()['other_2']\n",
    "print(num_white)\n",
    "# print(num_other_2)\n",
    "\n"
   ]
  },
  {
   "cell_type": "code",
   "execution_count": 32,
   "metadata": {
    "scrolled": false
   },
   "outputs": [
    {
     "data": {
      "text/plain": [
       "Text(0.5, 1.0, 'Count by Ethnicity')"
      ]
     },
     "execution_count": 32,
     "metadata": {},
     "output_type": "execute_result"
    },
    {
     "data": {
      "image/png": "[encoded data removed]",
      "text/plain": [
       "<Figure size 864x864 with 1 Axes>"
      ]
     },
     "metadata": {},
     "output_type": "display_data"
    }
   ],
   "source": [
    "plt.figure(figsize=(12,12))\n",
    "sns.barplot(x=ethnicity_count_sort['ethnicity'], y=ethnicity_count_sort['index'])\n",
    "plt.title('Count by Ethnicity')\n",
    "# plt.savefig('ethinicity.png')"
   ]
  },
  {
   "cell_type": "markdown",
   "metadata": {},
   "source": [
    "As an alternate analysis, for users stating multiple ethnicities, assign the user to the first group they listed. From the plot below, the alternate analysis does not change the results substantially: again, 'white', 'asian', 'hispanic', and 'black' are roughly in the same proportions as before."
   ]
  },
  {
   "cell_type": "code",
   "execution_count": 33,
   "metadata": {},
   "outputs": [
    {
     "name": "stdout",
     "output_type": "stream",
     "text": [
      "              index  first_eth\n",
      "0             white      33472\n",
      "1             asian       8205\n",
      "2  hispanic / latin       4379\n",
      "3             black       3071\n",
      "4             other       1706\n",
      "5            indian       1196\n",
      "6    middle eastern        811\n",
      "7  pacific islander        717\n",
      "8   native american        709\n"
     ]
    },
    {
     "data": {
      "image/png": "[encoded data removed]",
      "text/plain": [
       "<Figure size 864x864 with 1 Axes>"
      ]
     },
     "metadata": {},
     "output_type": "display_data"
    }
   ],
   "source": [
    "# Now check mixed ethnicity: for single ethnicity, keep as is. For multiethnicity, keep first entry then add 'mix'\n",
    "\n",
    "profiles_eth2 = profiles.dropna(subset=['ethnicity']).copy()\n",
    "\n",
    "profiles_eth2['first_eth'] = profiles_eth2.apply(lambda row: (row['ethnicity'].split(','))[0], axis = 1)\n",
    "eth_count_sort = (profiles_eth2['first_eth'].value_counts().reset_index())\n",
    "print(eth_count_sort)\n",
    "plt.figure(figsize=(12,12))\n",
    "sns.barplot(x=eth_count_sort['first_eth'], y=eth_count_sort['index'])\n",
    "plt.xlabel('Count')\n",
    "plt.ylabel('Ethnicity')\n",
    "plt.title('Count by Ethnicity Mix')\n",
    "plt.savefig('ethinicity.png')\n",
    "    \n",
    "# profiles_eth2['first_eth'] = profiles_eth2.apply(lambda row: row['ethnicity'] if len(row['ethnicity'].split(',')) == 1 \\\n",
    "#                                                else (row['ethnicity'].split(','))[0] + ' mix', axis=1)\n",
    "# eth_count_sort = (profiles_eth2['first_eth'].value_counts().reset_index())\n",
    "# print(eth_count_sort)\n",
    "# plt.figure(figsize=(12,12))\n",
    "# sns.barplot(x=eth_count_sort['first_eth'], y=eth_count_sort['index'])\n",
    "# plt.title('Count by Ethnicity Mix')\n",
    "# # plt.savefig('ethinicity.png')\n"
   ]
  },
  {
   "cell_type": "markdown",
   "metadata": {},
   "source": [
    "### Education\n",
    "\n",
    "A significant number of respondents (57%) are enrolled in or graduated from college or univeristy. Another 20% are enrolled in or graduated from a master program. "
   ]
  },
  {
   "cell_type": "code",
   "execution_count": 34,
   "metadata": {
    "scrolled": true
   },
   "outputs": [
    {
     "name": "stdout",
     "output_type": "stream",
     "text": [
      "                                index  education    percent\n",
      "23         dropped out of high school   0.001913   0.191305\n",
      "25             working on high school   0.001632   0.163172\n",
      "24                        high school   0.001801   0.180052\n",
      "5          graduated from high school   0.026783   2.678270\n",
      "19    dropped out of two-year college   0.003582   0.358228\n",
      "8         working on two-year college   0.020143   2.014329\n",
      "17                   two-year college   0.004164   0.416370\n",
      "4     graduated from two-year college   0.028715   2.871451\n",
      "9   dropped out of college/university   0.018662   1.866162\n",
      "2       working on college/university   0.107131  10.713080\n",
      "11                 college/university   0.015023   1.502307\n",
      "0   graduated from college/university   0.449360  44.936044\n",
      "20     dropped out of masters program   0.002626   0.262575\n",
      "3          working on masters program   0.031565   3.156533\n",
      "21                    masters program   0.002551   0.255073\n",
      "1      graduated from masters program   0.168067  16.806707\n",
      "29          dropped out of law school   0.000338   0.033760\n",
      "16              working on law school   0.005045   0.504520\n",
      "28                         law school   0.000356   0.035635\n",
      "7           graduated from law school   0.021044   2.104355\n",
      "30          dropped out of med school   0.000225   0.022506\n",
      "18              working on med school   0.003976   0.397614\n",
      "31                         med school   0.000206   0.020631\n",
      "14          graduated from med school   0.008365   0.836490\n",
      "22        dropped out of ph.d program   0.002382   0.238193\n",
      "10            working on ph.d program   0.018437   1.843655\n",
      "27                       ph.d program   0.000488   0.048764\n",
      "6         graduated from ph.d program   0.023857   2.385686\n",
      "13          dropped out of space camp   0.009809   0.980907\n",
      "15              working on space camp   0.008346   0.834615\n",
      "26                         space camp   0.001088   0.108781\n",
      "12          graduated from space camp   0.012322   1.232229\n"
     ]
    },
    {
     "data": {
      "image/png": "[encoded data removed]",
      "text/plain": [
       "<Figure size 432x288 with 1 Axes>"
      ]
     },
     "metadata": {},
     "output_type": "display_data"
    }
   ],
   "source": [
    "\n",
    "profiles['education'] = pd.Categorical(profiles['education'],\\\n",
    "                        ['dropped out of high school', 'working on high school', 'high school', 'graduated from high school', \\\n",
    "                         'dropped out of two-year college', 'working on two-year college', 'two-year college', 'graduated from two-year college', \\\n",
    "                         'dropped out of college/university', 'working on college/university', 'college/university', 'graduated from college/university', \\\n",
    "                         'dropped out of masters program', 'working on masters program', 'masters program', 'graduated from masters program', \\\n",
    "                         'dropped out of law school', 'working on law school', 'law school', 'graduated from law school', \\\n",
    "                         'dropped out of med school', 'working on med school', 'med school', 'graduated from med school', \\\n",
    "                         'dropped out of ph.d program', 'working on ph.d program', 'ph.d program', 'graduated from ph.d program', \\\n",
    "                         'dropped out of space camp', 'working on space camp', 'space camp', 'graduated from space camp'], ordered=True)\n",
    "profiles_ed = profiles['education'].value_counts(normalize=True).reset_index()\n",
    "profiles_ed['percent'] =  profiles_ed.apply(lambda row: row['education']*100, axis =1)\n",
    "print(profiles_ed.sort_values(by= 'index'))\n",
    "\n",
    "sns.barplot(data=profiles_ed, x='percent', y='index')\n",
    "plt.xlabel('Percent')\n",
    "plt.ylabel('Education')\n",
    "plt.title('Users\\' Education')\n",
    "plt.savefig('education.png')"
   ]
  },
  {
   "cell_type": "markdown",
   "metadata": {},
   "source": [
    "### Age"
   ]
  },
  {
   "cell_type": "code",
   "execution_count": 35,
   "metadata": {},
   "outputs": [
    {
     "name": "stdout",
     "output_type": "stream",
     "text": [
      "count    59946.000000\n",
      "mean        32.340290\n",
      "std          9.452779\n",
      "min         18.000000\n",
      "25%         26.000000\n",
      "50%         30.000000\n",
      "75%         37.000000\n",
      "max        110.000000\n",
      "Name: age, dtype: float64\n"
     ]
    },
    {
     "data": {
      "text/plain": [
       "<seaborn.axisgrid.FacetGrid at 0x272427f3670>"
      ]
     },
     "execution_count": 35,
     "metadata": {},
     "output_type": "execute_result"
    },
    {
     "data": {
      "image/png": "[encoded data removed]",
      "text/plain": [
       "<Figure size 404.375x360 with 1 Axes>"
      ]
     },
     "metadata": {},
     "output_type": "display_data"
    }
   ],
   "source": [
    "print(profiles['age'].describe())\n",
    "sns.displot(data=profiles, x='age',kind='hist', binwidth=5, hue='sex')"
   ]
  },
  {
   "cell_type": "markdown",
   "metadata": {},
   "source": []
  },
  {
   "cell_type": "code",
   "execution_count": null,
   "metadata": {},
   "outputs": [],
   "source": []
  },
  {
   "cell_type": "markdown",
   "metadata": {},
   "source": [
    "## Body Type\n",
    "\n",
    "Data below shows that at large majority of users call their body type 'average' (26-27%) or 'fit' (21-25%). For males, an\n",
    "additional 28.6% call their body type 'athletic' while for females a similar percentage call their body type 'athletic' or 'curvy' (28.8%). Females were more likely to use the terms 'curvy' or 'full-figured' and males were more likely to use the term 'athletic'."
   ]
  },
  {
   "cell_type": "code",
   "execution_count": 36,
   "metadata": {},
   "outputs": [
    {
     "name": "stdout",
     "output_type": "stream",
     "text": [
      "average           14652\n",
      "fit               12711\n",
      "athletic          11819\n",
      "thin               4711\n",
      "curvy              3924\n",
      "a little extra     2629\n",
      "skinny             1777\n",
      "full figured       1009\n",
      "overweight          444\n",
      "jacked              421\n",
      "used up             355\n",
      "rather not say      198\n",
      "Name: body_type, dtype: int64\n"
     ]
    }
   ],
   "source": [
    "# Drop nulls and then categorize data\n",
    "\n",
    "profiles_body = profiles.dropna(subset=['body_type']).copy()\n",
    "profiles_body['body_type'] = pd.Categorical(profiles_body['body_type'], \\\n",
    "                                            ['rather not say', 'skinny', 'thin', 'average', 'fit', 'curvy', 'athletic', \\\n",
    "                                             'jacked', 'a little extra', 'overweight', 'full figured', 'used up'], ordered=True)\n",
    "print(profiles_body['body_type'].sort_values().value_counts())"
   ]
  },
  {
   "cell_type": "code",
   "execution_count": 37,
   "metadata": {},
   "outputs": [
    {
     "name": "stdout",
     "output_type": "stream",
     "text": [
      "33236 21414\n",
      "         body_type sex  status    percent\n",
      "0   rather not say   f     106   0.495003\n",
      "1   rather not say   m      92   0.276808\n",
      "2           skinny   f     601   2.806575\n",
      "3           skinny   m    1176   3.538332\n",
      "4             thin   f    2469  11.529840\n",
      "5             thin   m    2242   6.745697\n",
      "6          average   f    5620  26.244513\n",
      "7          average   m    9032  27.175352\n",
      "8              fit   f    4431  20.692071\n",
      "9              fit   m    8280  24.912745\n",
      "10           curvy   f    3811  17.796768\n",
      "11           curvy   m     113   0.339993\n",
      "12        athletic   f    2309  10.782666\n",
      "13        athletic   m    9510  28.613552\n",
      "14          jacked   f     129   0.602410\n",
      "15          jacked   m     292   0.878565\n",
      "16  a little extra   f     821   3.833940\n",
      "17  a little extra   m    1808   5.439884\n",
      "18      overweight   f     145   0.677127\n",
      "19      overweight   m     299   0.899627\n",
      "20    full figured   f     870   4.062763\n",
      "21    full figured   m     139   0.418221\n",
      "22         used up   f     102   0.476324\n",
      "23         used up   m     253   0.761223\n"
     ]
    }
   ],
   "source": [
    "body_sex_count = profiles_body.groupby(['body_type', 'sex'])['status'].count().reset_index()\n",
    "total_male = profiles_body['sex'].value_counts()[0]\n",
    "total_female = profiles_body['sex'].value_counts()[1]\n",
    "print(total_male, total_female)\n",
    "body_sex_count['percent'] = body_sex_count.apply(lambda row: row['status']/total_male*100 if row['sex'] == 'm' else row['status']/total_female*100, axis = 1)\n",
    "print(body_sex_count)"
   ]
  },
  {
   "cell_type": "code",
   "execution_count": 38,
   "metadata": {},
   "outputs": [
    {
     "data": {
      "image/png": "[encoded data removed]",
      "text/plain": [
       "<Figure size 432x288 with 1 Axes>"
      ]
     },
     "metadata": {},
     "output_type": "display_data"
    }
   ],
   "source": [
    "# Plot body type sorted by sex by percent\n",
    "\n",
    "sns.barplot(x=body_sex_count['percent'], y=body_sex_count['body_type'], hue= body_sex_count['sex'])\n",
    "plt.title('Body Type Percentage By Sex')\n",
    "plt.savefig('body_type_sex.png')\n",
    "plt.show()"
   ]
  },
  {
   "cell_type": "markdown",
   "metadata": {},
   "source": [
    "## Diet\n",
    "\n",
    "The diet preference for the vast majority of users is 'anything' (78.4%). A smaller number is 'vegetarian' (14%), 'other' (5%), 'vegan' (2%), 'kosher' (0.3%), and 'halal' (0.2%)."
   ]
  },
  {
   "cell_type": "code",
   "execution_count": 39,
   "metadata": {},
   "outputs": [
    {
     "name": "stdout",
     "output_type": "stream",
     "text": [
      "         diet  count    percent\n",
      "1       halal     77   0.216590\n",
      "2      kosher    115   0.323479\n",
      "4       vegan    702   1.974628\n",
      "3       other   1790   5.035020\n",
      "5  vegetarian   4986  14.024922\n",
      "0    anything  27881  78.425361\n"
     ]
    }
   ],
   "source": [
    "profiles_diet = profiles.dropna(subset=['diet']).copy()\n",
    "\n",
    "\n",
    "profiles_diet['diet_overall'] = profiles_diet.diet.str.split().str.get(-1)\n",
    "diet_overall = profiles_diet['diet_overall'].value_counts().sort_index().to_frame().reset_index()\n",
    "diet_overall.columns = ['diet', 'count']\n",
    "diet_overall['percent'] = diet_overall['count'].apply(lambda x: x/ len(profiles_diet['diet_overall'])*100)\n",
    "\n",
    "print((diet_overall.sort_values(by='percent')))\n"
   ]
  },
  {
   "cell_type": "markdown",
   "metadata": {},
   "source": [
    "## Location\n",
    "\n",
    "The first 50 most cited locations are all in the Bay Area and account for 99.1% of all users. I.e. this data represents OkCupid users that are nearly exclusively from the Bay Area. It is unclear whether the `location` data will provide useful information to the machine learning model."
   ]
  },
  {
   "cell_type": "code",
   "execution_count": 40,
   "metadata": {},
   "outputs": [
    {
     "name": "stdout",
     "output_type": "stream",
     "text": [
      "                              index  location\n",
      "0         san francisco, california     31064\n",
      "1               oakland, california      7214\n",
      "2              berkeley, california      4212\n",
      "3             san mateo, california      1331\n",
      "4             palo alto, california      1064\n",
      "5               alameda, california       910\n",
      "6            san rafael, california       755\n",
      "7               hayward, california       747\n",
      "8            emeryville, california       738\n",
      "9          redwood city, california       693\n",
      "10            daly city, california       681\n",
      "11          san leandro, california       651\n",
      "12         walnut creek, california       644\n",
      "13              vallejo, california       558\n",
      "14           menlo park, california       479\n",
      "15             richmond, california       424\n",
      "16  south san francisco, california       416\n",
      "17        mountain view, california       384\n",
      "18               novato, california       369\n",
      "19           burlingame, california       361\n",
      "20        pleasant hill, california       347\n",
      "21        castro valley, california       345\n",
      "22             stanford, california       341\n",
      "23           el cerrito, california       325\n",
      "24             pacifica, california       323\n",
      "25             martinez, california       316\n",
      "26          mill valley, california       315\n",
      "27            san bruno, california       290\n",
      "28            san pablo, california       245\n",
      "29              belmont, california       243\n",
      "30               albany, california       233\n",
      "31           san carlos, california       227\n",
      "32              benicia, california       203\n",
      "33            lafayette, california       180\n",
      "34            sausalito, california       179\n",
      "35             millbrae, california       155\n",
      "36          san anselmo, california       147\n",
      "37          el sobrante, california       137\n",
      "38          san lorenzo, california       135\n",
      "39              fairfax, california       121\n",
      "40             hercules, california       117\n",
      "41               pinole, california       104\n",
      "42        half moon bay, california        99\n",
      "43              fremont, california        90\n",
      "44           green brae, california        87\n",
      "45               orinda, california        85\n",
      "46               moraga, california        84\n",
      "47             larkspur, california        80\n",
      "48         corte madera, california        76\n",
      "49    belvedere tiburon, california        57\n",
      "The first 50 most-cited locations are all in the Bay Area and account for 59381 of 59946 users, or 99.1% of all users.\n"
     ]
    }
   ],
   "source": [
    "\n",
    "counts_loc = (profiles['location'].value_counts().head(50).reset_index())\n",
    "print(counts_loc)\n",
    "count_loc = counts_loc['location'].sum()\n",
    "print('The first 50 most-cited locations are all in the Bay Area and account for '\\\n",
    "      + str(count_loc) + ' of 59946 users, or ' + str(round((count_loc/59946*100),1)) + '% of all users.')\n"
   ]
  },
  {
   "cell_type": "markdown",
   "metadata": {},
   "source": [
    "## Pets\n",
    "\n",
    "Among respondents, 21.2% has at least one dog and 18.2% has at least one cat. These number include 3.7% that have both. Only 1.4%  express a dislike of dogs, and 7.2% express a dislike of cats. "
   ]
  },
  {
   "cell_type": "code",
   "execution_count": 41,
   "metadata": {},
   "outputs": [
    {
     "name": "stdout",
     "output_type": "stream",
     "text": [
      "The percentage of responses that include \"has dogs\" is 21.2%\n",
      "The percentage of responses that include \"has cats\" is 18.2%\n",
      "The percentage of responses that include \"has dogs and has cats\" is 3.7%\n",
      "The percentage of responses that include \"dislikes dogs\" is 1.4%\n",
      "The percentage of responses that include \"dislikes cats\" is 7.2%\n",
      "                     pet_preference     ratio    percent\n",
      "12                    dislikes cats  0.003048   0.304809\n",
      "14                    dislikes dogs  0.001099   0.109931\n",
      "11  dislikes dogs and dislikes cats  0.004897   0.489694\n",
      "1                        likes dogs  0.180487  18.048720\n",
      "5      likes dogs and dislikes cats  0.050693   5.069332\n",
      "0         likes dogs and likes cats  0.370119  37.011868\n",
      "3                          has dogs  0.103285  10.328545\n",
      "9        has dogs and dislikes cats  0.013791   1.379138\n",
      "4           has dogs and likes cats  0.058289   5.828857\n",
      "6             has dogs and has cats  0.036827   3.682698\n",
      "2           likes dogs and has cats  0.107758  10.775765\n",
      "13       dislikes dogs and has cats  0.002024   0.202374\n",
      "7                          has cats  0.035128   3.512804\n",
      "10     dislikes dogs and likes cats  0.005996   0.599625\n",
      "8                        likes cats  0.026558   2.655840\n"
     ]
    },
    {
     "data": {
      "image/png": "[encoded data removed]",
      "text/plain": [
       "<Figure size 432x288 with 1 Axes>"
      ]
     },
     "metadata": {},
     "output_type": "display_data"
    }
   ],
   "source": [
    "\n",
    "profiles['pets'] = pd.Categorical(profiles['pets'],\\\n",
    "                        ['dislikes cats', 'dislikes dogs', 'dislikes dogs and dislikes cats', 'likes dogs', \\\n",
    "                         'likes dogs and dislikes cats', 'likes dogs and likes cats', 'has dogs', \\\n",
    "                         'has dogs and dislikes cats', 'has dogs and likes cats', 'has dogs and has cats',\\\n",
    "                         'likes dogs and has cats', 'dislikes dogs and has cats', 'has cats', \\\n",
    "                         'dislikes dogs and likes cats', 'likes cats'], ordered=True)\n",
    "profiles_pets = profiles['pets'].value_counts(normalize=True).reset_index()\n",
    "profiles_pets.rename(columns = {'index':'pet_preference', 'pets': 'ratio'}, inplace=True)\n",
    "profiles_pets['percent'] =  profiles_pets.apply(lambda row: row['ratio']*100, axis =1)\n",
    "\n",
    "pet_percent_count = 0\n",
    "pet_phrases = ['has dogs', 'has cats', 'has dogs and has cats', 'dislikes dogs', 'dislikes cats']\n",
    "for phrase in pet_phrases:\n",
    "    for i in range(len(profiles_pets)):\n",
    "        if (profiles_pets['pet_preference'][i].__contains__(phrase)):\n",
    "            pet_percent_count += profiles_pets['percent'][i]\n",
    "    print(f'The percentage of responses that include \"{phrase}\" is {round(pet_percent_count,1)}%')\n",
    "    pet_percent_count = 0\n",
    "\n",
    "\n",
    "print(profiles_pets.sort_values(by= 'pet_preference'))\n",
    "\n",
    "sns.barplot(data=profiles_pets, x='percent', y='pet_preference')\n",
    "plt.xlabel('Percent')\n",
    "plt.ylabel('Pet Preference')\n",
    "plt.title('Users\\' Pets')\n",
    "plt.savefig('pets.png')"
   ]
  },
  {
   "cell_type": "markdown",
   "metadata": {},
   "source": [
    "##  Natural Language Processing\n",
    "\n",
    "Use scikit-learn's bag-of-words and Naive Bayes classifier to determine the author of a writing selection.\n",
    "\n",
    "- **Goal** There are 10 essay-type answers that each user submitted when creating their profile. The goal will be to select 10 users at random and use a random selection of 8 of their essay answers in order to train the model. Then given  9 and 10th essays, see how accurately the model can guess the correct user.\n",
    "- **Data** As noted, data will be `essay0` through `essay9` from 10 random users. \n",
    "- **Analysis** The analysis will use scikit-learn's bag-of-words and Naive Bayes classifier. The 10 random users will need to have answered all 10 essay questions so that we don't inadvertently have NaNs to clog up the model. "
   ]
  },
  {
   "cell_type": "code",
   "execution_count": 42,
   "metadata": {},
   "outputs": [
    {
     "name": "stdout",
     "output_type": "stream",
     "text": [
      "(29866, 10)\n"
     ]
    }
   ],
   "source": [
    "# Copy profiles dataset, and drop all rows with any null values in any of the essay questions. \n",
    "\n",
    "profiles_essays = profiles[['essay0', 'essay1', 'essay2', 'essay3', 'essay4', \\\n",
    "                            'essay5', 'essay6', 'essay7', 'essay8', 'essay9',]].dropna()\n",
    "\n",
    "# Check remaining users. NOTE- from .shape, 29866 users answered all ten essays. OK to proceed. \n",
    "print(profiles_essays.shape)"
   ]
  },
  {
   "cell_type": "code",
   "execution_count": 43,
   "metadata": {},
   "outputs": [
    {
     "name": "stdout",
     "output_type": "stream",
     "text": [
      "(10, 10)\n",
      "For index 0 predicted [0]: MATCH!!!\n",
      "For index 1 predicted [2]\n",
      "For index 2 predicted [2]: MATCH!!!\n",
      "For index 3 predicted [7]\n",
      "For index 4 predicted [4]: MATCH!!!\n",
      "For index 5 predicted [7]\n",
      "For index 6 predicted [7]\n",
      "For index 7 predicted [2]\n",
      "For index 8 predicted [7]\n",
      "For index 9 predicted [2]\n",
      "Correct ratio is: 0.30000000000000004\n"
     ]
    }
   ],
   "source": [
    "# Select 10 random users using built-in `.sample` method, then for each select 9 essays to train the model. We might be \n",
    "# able to use .sample again to select random columns, but instead use random indexes so that we can keep track. Use the\n",
    "# remaining essay to predict who the author is.\n",
    "\n",
    "\n",
    "training_essays = []\n",
    "test_essays = []\n",
    "user_labels = []\n",
    "test_labels = []\n",
    "ten_users = profiles_essays.sample(n=10).reset_index(drop=True)\n",
    "print(ten_users.shape)\n",
    "for i in range(len(ten_users)):\n",
    "    rand_index = np.random.randint(10, size = 1)\n",
    "#     if rand_index[0] == rand_index[1]:\n",
    "#         rand_index[1] = (rand_index[0] + 3)%10\n",
    "    \n",
    "    for j in range(len(ten_users.columns)):        \n",
    "        if j not in rand_index:\n",
    "            training_essays.append(ten_users.iloc[i, j])\n",
    "            user_labels.append(i)\n",
    "        else:\n",
    "            test_essays.append(ten_users.iloc[i, j])\n",
    "            test_labels.append(i)\n",
    "\n",
    "from sklearn.feature_extraction.text import CountVectorizer\n",
    "from sklearn.naive_bayes import MultinomialNB\n",
    "\n",
    "bow_vectorizer = CountVectorizer()\n",
    "user_vectors = bow_vectorizer.fit_transform(training_essays)\n",
    "\n",
    "user_classifier = MultinomialNB()\n",
    "user_classifier.fit(user_vectors, user_labels)\n",
    "\n",
    "correct = 0\n",
    "for i in range(10):\n",
    "    test_vector = bow_vectorizer.transform([test_essays[i]])\n",
    "    prediction = user_classifier.predict(test_vector)\n",
    "    if prediction == i:\n",
    "        print(f'For index {i} predicted {prediction}: MATCH!!!')\n",
    "        correct += .1        \n",
    "    else:\n",
    "        print(f'For index {i} predicted {prediction}')\n",
    "    \n",
    "print(f'Correct ratio is: {correct}')"
   ]
  },
  {
   "cell_type": "markdown",
   "metadata": {},
   "source": [
    "### Natural Language Processing\n",
    "\n",
    "- **Conclusions** After running the classifier ten times, the classifier consistently made the correct classification an average of 1.8 times out of 10, which is *slightly* better performance than random guessing. Of course, for better classifications the solution would be to train the model with far more data than the ten essays here. "
   ]
  },
  {
   "cell_type": "markdown",
   "metadata": {},
   "source": [
    "## Machine Learning\n",
    "\n",
    "### Check and Prepare Data\n",
    "\n",
    "Check data for null values"
   ]
  },
  {
   "cell_type": "code",
   "execution_count": 44,
   "metadata": {},
   "outputs": [
    {
     "data": {
      "text/plain": [
       "age                0\n",
       "body_type       5296\n",
       "diet           24395\n",
       "drinks          2985\n",
       "drugs          14080\n",
       "education       6628\n",
       "essay0          5488\n",
       "essay1          7572\n",
       "essay2          9638\n",
       "essay3         11476\n",
       "essay4         10537\n",
       "essay5         10850\n",
       "essay6         13771\n",
       "essay7         12451\n",
       "essay8         19225\n",
       "essay9         12603\n",
       "ethnicity       5680\n",
       "height             3\n",
       "income             0\n",
       "job             8198\n",
       "last_online        0\n",
       "location           0\n",
       "offspring      35561\n",
       "orientation        0\n",
       "pets           19921\n",
       "religion       20226\n",
       "sex                0\n",
       "sign           11056\n",
       "smokes          5512\n",
       "speaks            50\n",
       "status             0\n",
       "dtype: int64"
      ]
     },
     "execution_count": 44,
     "metadata": {},
     "output_type": "execute_result"
    }
   ],
   "source": [
    "profiles.isnull().sum()"
   ]
  },
  {
   "cell_type": "code",
   "execution_count": 45,
   "metadata": {},
   "outputs": [
    {
     "name": "stdout",
     "output_type": "stream",
     "text": [
      "nan\n"
     ]
    }
   ],
   "source": [
    "print(profiles['essay7'][999])"
   ]
  },
  {
   "cell_type": "code",
   "execution_count": 46,
   "metadata": {},
   "outputs": [
    {
     "name": "stdout",
     "output_type": "stream",
     "text": [
      "nan\n"
     ]
    }
   ],
   "source": [
    "print(profiles['essay7'][998])"
   ]
  },
  {
   "cell_type": "code",
   "execution_count": null,
   "metadata": {},
   "outputs": [],
   "source": []
  },
  {
   "cell_type": "code",
   "execution_count": null,
   "metadata": {},
   "outputs": [],
   "source": []
  },
  {
   "cell_type": "code",
   "execution_count": null,
   "metadata": {},
   "outputs": [],
   "source": []
  },
  {
   "cell_type": "code",
   "execution_count": null,
   "metadata": {},
   "outputs": [],
   "source": []
  },
  {
   "cell_type": "code",
   "execution_count": null,
   "metadata": {},
   "outputs": [],
   "source": []
  },
  {
   "cell_type": "code",
   "execution_count": null,
   "metadata": {},
   "outputs": [],
   "source": []
  },
  {
   "cell_type": "code",
   "execution_count": null,
   "metadata": {},
   "outputs": [],
   "source": []
  },
  {
   "cell_type": "code",
   "execution_count": null,
   "metadata": {},
   "outputs": [],
   "source": []
  },
  {
   "cell_type": "code",
   "execution_count": null,
   "metadata": {},
   "outputs": [],
   "source": []
  },
  {
   "cell_type": "code",
   "execution_count": null,
   "metadata": {},
   "outputs": [],
   "source": []
  },
  {
   "cell_type": "code",
   "execution_count": null,
   "metadata": {},
   "outputs": [],
   "source": []
  }
 ],
 "metadata": {
  "kernelspec": {
   "display_name": "Python 3",
   "language": "python",
   "name": "python3"
  },
  "language_info": {
   "codemirror_mode": {
    "name": "ipython",
    "version": 3
   },
   "file_extension": ".py",
   "mimetype": "text/x-python",
   "name": "python",
   "nbconvert_exporter": "python",
   "pygments_lexer": "ipython3",
   "version": "3.8.8"
  }
 },
 "nbformat": 4,
 "nbformat_minor": 4
}
